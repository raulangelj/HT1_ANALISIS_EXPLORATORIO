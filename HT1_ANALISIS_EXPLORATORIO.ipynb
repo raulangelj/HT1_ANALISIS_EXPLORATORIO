{
 "cells": [
  {
   "cell_type": "markdown",
   "metadata": {},
   "source": [
    "# Analisis Exploratorio (EDA) Ejercicio\n",
    "\n",
    "Raul Jimenez 19017\n",
    "\n",
    "Oscar Saravia 19322\n",
    "\n",
    "Donaldo Garcia 19683"
   ]
  },
  {
   "cell_type": "code",
   "execution_count": 1,
   "metadata": {},
   "outputs": [],
   "source": [
    "from statsmodels.graphics.gofplots import qqplot\n",
    "import numpy as np\n",
    "import pandas as pd\n",
    "import matplotlib\n",
    "import matplotlib.pyplot as plt\n",
    "import scipy.stats as stats\n",
    "import statsmodels.stats.diagnostic as diag\n",
    "import statsmodels.api as sm\n",
    "import seaborn as sns\n",
    "import random"
   ]
  },
  {
   "cell_type": "markdown",
   "metadata": {},
   "source": [
    "## 1. (3 puntos) Haga una exploración rápida de sus datos, para eso haga un resumen de su conjunto de datos. "
   ]
  },
  {
   "cell_type": "code",
   "execution_count": 7,
   "metadata": {},
   "outputs": [
    {
     "data": {
      "text/html": [
       "<div>\n",
       "<style scoped>\n",
       "    .dataframe tbody tr th:only-of-type {\n",
       "        vertical-align: middle;\n",
       "    }\n",
       "\n",
       "    .dataframe tbody tr th {\n",
       "        vertical-align: top;\n",
       "    }\n",
       "\n",
       "    .dataframe thead th {\n",
       "        text-align: right;\n",
       "    }\n",
       "</style>\n",
       "<table border=\"1\" class=\"dataframe\">\n",
       "  <thead>\n",
       "    <tr style=\"text-align: right;\">\n",
       "      <th></th>\n",
       "      <th>id</th>\n",
       "      <th>budget</th>\n",
       "      <th>genres</th>\n",
       "      <th>homePage</th>\n",
       "      <th>productionCompany</th>\n",
       "      <th>productionCompanyCountry</th>\n",
       "      <th>productionCountry</th>\n",
       "      <th>revenue</th>\n",
       "      <th>runtime</th>\n",
       "      <th>video</th>\n",
       "      <th>...</th>\n",
       "      <th>popularity</th>\n",
       "      <th>releaseDate</th>\n",
       "      <th>voteAvg</th>\n",
       "      <th>voteCount</th>\n",
       "      <th>genresAmount</th>\n",
       "      <th>productionCoAmount</th>\n",
       "      <th>productionCountriesAmount</th>\n",
       "      <th>actorsAmount</th>\n",
       "      <th>castWomenAmount</th>\n",
       "      <th>castMenAmount</th>\n",
       "    </tr>\n",
       "  </thead>\n",
       "  <tbody>\n",
       "    <tr>\n",
       "      <th>0</th>\n",
       "      <td>5</td>\n",
       "      <td>4000000</td>\n",
       "      <td>Crime|Comedy</td>\n",
       "      <td>https://www.miramax.com/movie/four-rooms/</td>\n",
       "      <td>Miramax|A Band Apart</td>\n",
       "      <td>US|US</td>\n",
       "      <td>United States of America</td>\n",
       "      <td>4257354.0</td>\n",
       "      <td>98</td>\n",
       "      <td>False</td>\n",
       "      <td>...</td>\n",
       "      <td>20.880</td>\n",
       "      <td>1995-12-09</td>\n",
       "      <td>5.7</td>\n",
       "      <td>2077</td>\n",
       "      <td>2</td>\n",
       "      <td>2</td>\n",
       "      <td>1</td>\n",
       "      <td>25</td>\n",
       "      <td>15</td>\n",
       "      <td>9</td>\n",
       "    </tr>\n",
       "    <tr>\n",
       "      <th>1</th>\n",
       "      <td>6</td>\n",
       "      <td>21000000</td>\n",
       "      <td>Action|Thriller|Crime</td>\n",
       "      <td>NaN</td>\n",
       "      <td>Universal Pictures|Largo Entertainment|JVC</td>\n",
       "      <td>US|US|JP</td>\n",
       "      <td>Japan|United States of America</td>\n",
       "      <td>12136938.0</td>\n",
       "      <td>110</td>\n",
       "      <td>False</td>\n",
       "      <td>...</td>\n",
       "      <td>9.596</td>\n",
       "      <td>1993-10-15</td>\n",
       "      <td>6.5</td>\n",
       "      <td>223</td>\n",
       "      <td>3</td>\n",
       "      <td>3</td>\n",
       "      <td>2</td>\n",
       "      <td>15</td>\n",
       "      <td>3</td>\n",
       "      <td>9</td>\n",
       "    </tr>\n",
       "    <tr>\n",
       "      <th>2</th>\n",
       "      <td>11</td>\n",
       "      <td>11000000</td>\n",
       "      <td>Adventure|Action|Science Fiction</td>\n",
       "      <td>http://www.starwars.com/films/star-wars-episod...</td>\n",
       "      <td>Lucasfilm|20th Century Fox</td>\n",
       "      <td>US|US</td>\n",
       "      <td>United States of America</td>\n",
       "      <td>775398007.0</td>\n",
       "      <td>121</td>\n",
       "      <td>NaN</td>\n",
       "      <td>...</td>\n",
       "      <td>100.003</td>\n",
       "      <td>1977-05-25</td>\n",
       "      <td>8.2</td>\n",
       "      <td>16598</td>\n",
       "      <td>3</td>\n",
       "      <td>2</td>\n",
       "      <td>1</td>\n",
       "      <td>105</td>\n",
       "      <td>5</td>\n",
       "      <td>62</td>\n",
       "    </tr>\n",
       "    <tr>\n",
       "      <th>3</th>\n",
       "      <td>12</td>\n",
       "      <td>94000000</td>\n",
       "      <td>Animation|Family</td>\n",
       "      <td>http://movies.disney.com/finding-nemo</td>\n",
       "      <td>Pixar</td>\n",
       "      <td>US</td>\n",
       "      <td>United States of America</td>\n",
       "      <td>940335536.0</td>\n",
       "      <td>100</td>\n",
       "      <td>NaN</td>\n",
       "      <td>...</td>\n",
       "      <td>134.435</td>\n",
       "      <td>2003-05-30</td>\n",
       "      <td>7.8</td>\n",
       "      <td>15928</td>\n",
       "      <td>2</td>\n",
       "      <td>1</td>\n",
       "      <td>1</td>\n",
       "      <td>24</td>\n",
       "      <td>5</td>\n",
       "      <td>18</td>\n",
       "    </tr>\n",
       "    <tr>\n",
       "      <th>4</th>\n",
       "      <td>13</td>\n",
       "      <td>55000000</td>\n",
       "      <td>Comedy|Drama|Romance</td>\n",
       "      <td>NaN</td>\n",
       "      <td>Paramount|The Steve Tisch Company</td>\n",
       "      <td>US|</td>\n",
       "      <td>United States of America</td>\n",
       "      <td>677387716.0</td>\n",
       "      <td>142</td>\n",
       "      <td>False</td>\n",
       "      <td>...</td>\n",
       "      <td>58.751</td>\n",
       "      <td>1994-07-06</td>\n",
       "      <td>8.5</td>\n",
       "      <td>22045</td>\n",
       "      <td>3</td>\n",
       "      <td>2</td>\n",
       "      <td>1</td>\n",
       "      <td>76</td>\n",
       "      <td>18</td>\n",
       "      <td>48</td>\n",
       "    </tr>\n",
       "  </tbody>\n",
       "</table>\n",
       "<p>5 rows × 27 columns</p>\n",
       "</div>"
      ],
      "text/plain": [
       "   id    budget                            genres  \\\n",
       "0   5   4000000                      Crime|Comedy   \n",
       "1   6  21000000             Action|Thriller|Crime   \n",
       "2  11  11000000  Adventure|Action|Science Fiction   \n",
       "3  12  94000000                  Animation|Family   \n",
       "4  13  55000000              Comedy|Drama|Romance   \n",
       "\n",
       "                                            homePage  \\\n",
       "0          https://www.miramax.com/movie/four-rooms/   \n",
       "1                                                NaN   \n",
       "2  http://www.starwars.com/films/star-wars-episod...   \n",
       "3              http://movies.disney.com/finding-nemo   \n",
       "4                                                NaN   \n",
       "\n",
       "                            productionCompany productionCompanyCountry  \\\n",
       "0                        Miramax|A Band Apart                    US|US   \n",
       "1  Universal Pictures|Largo Entertainment|JVC                 US|US|JP   \n",
       "2                  Lucasfilm|20th Century Fox                    US|US   \n",
       "3                                       Pixar                       US   \n",
       "4           Paramount|The Steve Tisch Company                      US|   \n",
       "\n",
       "                productionCountry      revenue  runtime  video  ...  \\\n",
       "0        United States of America    4257354.0       98  False  ...   \n",
       "1  Japan|United States of America   12136938.0      110  False  ...   \n",
       "2        United States of America  775398007.0      121    NaN  ...   \n",
       "3        United States of America  940335536.0      100    NaN  ...   \n",
       "4        United States of America  677387716.0      142  False  ...   \n",
       "\n",
       "  popularity releaseDate voteAvg voteCount genresAmount productionCoAmount  \\\n",
       "0     20.880  1995-12-09     5.7      2077            2                  2   \n",
       "1      9.596  1993-10-15     6.5       223            3                  3   \n",
       "2    100.003  1977-05-25     8.2     16598            3                  2   \n",
       "3    134.435  2003-05-30     7.8     15928            2                  1   \n",
       "4     58.751  1994-07-06     8.5     22045            3                  2   \n",
       "\n",
       "  productionCountriesAmount  actorsAmount castWomenAmount  castMenAmount  \n",
       "0                         1            25              15              9  \n",
       "1                         2            15               3              9  \n",
       "2                         1           105               5             62  \n",
       "3                         1            24               5             18  \n",
       "4                         1            76              18             48  \n",
       "\n",
       "[5 rows x 27 columns]"
      ]
     },
     "execution_count": 7,
     "metadata": {},
     "output_type": "execute_result"
    }
   ],
   "source": [
    "movies = pd.read_csv('./movies.csv', encoding ='latin1')\n",
    "movies.head()"
   ]
  },
  {
   "cell_type": "code",
   "execution_count": 8,
   "metadata": {},
   "outputs": [
    {
     "data": {
      "text/html": [
       "<div>\n",
       "<style scoped>\n",
       "    .dataframe tbody tr th:only-of-type {\n",
       "        vertical-align: middle;\n",
       "    }\n",
       "\n",
       "    .dataframe tbody tr th {\n",
       "        vertical-align: top;\n",
       "    }\n",
       "\n",
       "    .dataframe thead th {\n",
       "        text-align: right;\n",
       "    }\n",
       "</style>\n",
       "<table border=\"1\" class=\"dataframe\">\n",
       "  <thead>\n",
       "    <tr style=\"text-align: right;\">\n",
       "      <th></th>\n",
       "      <th>count</th>\n",
       "      <th>mean</th>\n",
       "      <th>std</th>\n",
       "      <th>min</th>\n",
       "      <th>25%</th>\n",
       "      <th>50%</th>\n",
       "      <th>75%</th>\n",
       "      <th>max</th>\n",
       "    </tr>\n",
       "  </thead>\n",
       "  <tbody>\n",
       "    <tr>\n",
       "      <th>id</th>\n",
       "      <td>10000.0</td>\n",
       "      <td>2.498768e+05</td>\n",
       "      <td>2.573801e+05</td>\n",
       "      <td>5.000</td>\n",
       "      <td>12286.50000</td>\n",
       "      <td>152558.0000</td>\n",
       "      <td>4.520218e+05</td>\n",
       "      <td>9.222600e+05</td>\n",
       "    </tr>\n",
       "    <tr>\n",
       "      <th>budget</th>\n",
       "      <td>10000.0</td>\n",
       "      <td>1.855163e+07</td>\n",
       "      <td>3.662669e+07</td>\n",
       "      <td>0.000</td>\n",
       "      <td>0.00000</td>\n",
       "      <td>500000.0000</td>\n",
       "      <td>2.000000e+07</td>\n",
       "      <td>3.800000e+08</td>\n",
       "    </tr>\n",
       "    <tr>\n",
       "      <th>revenue</th>\n",
       "      <td>10000.0</td>\n",
       "      <td>5.673793e+07</td>\n",
       "      <td>1.495854e+08</td>\n",
       "      <td>0.000</td>\n",
       "      <td>0.00000</td>\n",
       "      <td>163124.5000</td>\n",
       "      <td>4.479661e+07</td>\n",
       "      <td>2.847246e+09</td>\n",
       "    </tr>\n",
       "    <tr>\n",
       "      <th>runtime</th>\n",
       "      <td>10000.0</td>\n",
       "      <td>1.002681e+02</td>\n",
       "      <td>2.777783e+01</td>\n",
       "      <td>0.000</td>\n",
       "      <td>90.00000</td>\n",
       "      <td>100.0000</td>\n",
       "      <td>1.130000e+02</td>\n",
       "      <td>7.500000e+02</td>\n",
       "    </tr>\n",
       "    <tr>\n",
       "      <th>popularity</th>\n",
       "      <td>10000.0</td>\n",
       "      <td>5.139391e+01</td>\n",
       "      <td>2.167296e+02</td>\n",
       "      <td>4.258</td>\n",
       "      <td>14.57775</td>\n",
       "      <td>21.9055</td>\n",
       "      <td>4.065400e+01</td>\n",
       "      <td>1.147465e+04</td>\n",
       "    </tr>\n",
       "    <tr>\n",
       "      <th>voteAvg</th>\n",
       "      <td>10000.0</td>\n",
       "      <td>6.483490e+00</td>\n",
       "      <td>9.842740e-01</td>\n",
       "      <td>1.300</td>\n",
       "      <td>5.90000</td>\n",
       "      <td>6.5000</td>\n",
       "      <td>7.200000e+00</td>\n",
       "      <td>1.000000e+01</td>\n",
       "    </tr>\n",
       "    <tr>\n",
       "      <th>voteCount</th>\n",
       "      <td>10000.0</td>\n",
       "      <td>1.342382e+03</td>\n",
       "      <td>2.564197e+03</td>\n",
       "      <td>1.000</td>\n",
       "      <td>120.00000</td>\n",
       "      <td>415.0000</td>\n",
       "      <td>1.316000e+03</td>\n",
       "      <td>3.078800e+04</td>\n",
       "    </tr>\n",
       "    <tr>\n",
       "      <th>genresAmount</th>\n",
       "      <td>10000.0</td>\n",
       "      <td>2.596500e+00</td>\n",
       "      <td>1.154565e+00</td>\n",
       "      <td>0.000</td>\n",
       "      <td>2.00000</td>\n",
       "      <td>3.0000</td>\n",
       "      <td>3.000000e+00</td>\n",
       "      <td>1.600000e+01</td>\n",
       "    </tr>\n",
       "    <tr>\n",
       "      <th>productionCoAmount</th>\n",
       "      <td>10000.0</td>\n",
       "      <td>3.171400e+00</td>\n",
       "      <td>2.539738e+00</td>\n",
       "      <td>0.000</td>\n",
       "      <td>2.00000</td>\n",
       "      <td>3.0000</td>\n",
       "      <td>4.000000e+00</td>\n",
       "      <td>8.900000e+01</td>\n",
       "    </tr>\n",
       "    <tr>\n",
       "      <th>productionCountriesAmount</th>\n",
       "      <td>10000.0</td>\n",
       "      <td>1.751000e+00</td>\n",
       "      <td>3.012093e+00</td>\n",
       "      <td>0.000</td>\n",
       "      <td>1.00000</td>\n",
       "      <td>1.0000</td>\n",
       "      <td>2.000000e+00</td>\n",
       "      <td>1.550000e+02</td>\n",
       "    </tr>\n",
       "    <tr>\n",
       "      <th>actorsAmount</th>\n",
       "      <td>10000.0</td>\n",
       "      <td>2.147667e+03</td>\n",
       "      <td>3.720008e+04</td>\n",
       "      <td>0.000</td>\n",
       "      <td>13.00000</td>\n",
       "      <td>21.0000</td>\n",
       "      <td>3.600000e+01</td>\n",
       "      <td>9.195900e+05</td>\n",
       "    </tr>\n",
       "  </tbody>\n",
       "</table>\n",
       "</div>"
      ],
      "text/plain": [
       "                             count          mean           std    min  \\\n",
       "id                         10000.0  2.498768e+05  2.573801e+05  5.000   \n",
       "budget                     10000.0  1.855163e+07  3.662669e+07  0.000   \n",
       "revenue                    10000.0  5.673793e+07  1.495854e+08  0.000   \n",
       "runtime                    10000.0  1.002681e+02  2.777783e+01  0.000   \n",
       "popularity                 10000.0  5.139391e+01  2.167296e+02  4.258   \n",
       "voteAvg                    10000.0  6.483490e+00  9.842740e-01  1.300   \n",
       "voteCount                  10000.0  1.342382e+03  2.564197e+03  1.000   \n",
       "genresAmount               10000.0  2.596500e+00  1.154565e+00  0.000   \n",
       "productionCoAmount         10000.0  3.171400e+00  2.539738e+00  0.000   \n",
       "productionCountriesAmount  10000.0  1.751000e+00  3.012093e+00  0.000   \n",
       "actorsAmount               10000.0  2.147667e+03  3.720008e+04  0.000   \n",
       "\n",
       "                                   25%          50%           75%  \\\n",
       "id                         12286.50000  152558.0000  4.520218e+05   \n",
       "budget                         0.00000  500000.0000  2.000000e+07   \n",
       "revenue                        0.00000  163124.5000  4.479661e+07   \n",
       "runtime                       90.00000     100.0000  1.130000e+02   \n",
       "popularity                    14.57775      21.9055  4.065400e+01   \n",
       "voteAvg                        5.90000       6.5000  7.200000e+00   \n",
       "voteCount                    120.00000     415.0000  1.316000e+03   \n",
       "genresAmount                   2.00000       3.0000  3.000000e+00   \n",
       "productionCoAmount             2.00000       3.0000  4.000000e+00   \n",
       "productionCountriesAmount      1.00000       1.0000  2.000000e+00   \n",
       "actorsAmount                  13.00000      21.0000  3.600000e+01   \n",
       "\n",
       "                                    max  \n",
       "id                         9.222600e+05  \n",
       "budget                     3.800000e+08  \n",
       "revenue                    2.847246e+09  \n",
       "runtime                    7.500000e+02  \n",
       "popularity                 1.147465e+04  \n",
       "voteAvg                    1.000000e+01  \n",
       "voteCount                  3.078800e+04  \n",
       "genresAmount               1.600000e+01  \n",
       "productionCoAmount         8.900000e+01  \n",
       "productionCountriesAmount  1.550000e+02  \n",
       "actorsAmount               9.195900e+05  "
      ]
     },
     "execution_count": 8,
     "metadata": {},
     "output_type": "execute_result"
    }
   ],
   "source": [
    "movies.describe().transpose()"
   ]
  },
  {
   "cell_type": "markdown",
   "metadata": {},
   "source": [
    "## 2. (5 puntos) Diga el tipo de cada una de las variables (cualitativa ordinal o nominal, cuantitativa continua, cuantitativa discreta) "
   ]
  },
  {
   "cell_type": "markdown",
   "metadata": {},
   "source": [
    "- id: id de la película **cualitativo, ordinal**\n",
    "- popularity: Índice de popularidad de la película calculado semanalmente **cuantitativo, continuo** \n",
    "- budget: El presupuesto para la película **cuantitativo, continua** \n",
    "- revenue: El ingreso de la película **cuantitativo, continua**\n",
    "- original_title: El título original de la película, en su idioma original **cualitativa, nominal** \n",
    "- originalLanguage: Idioma original en que se encuentra la película **cualititva, nominal**\n",
    "- title: El título de la película traducido al inglés **cualitativa, nominal**\n",
    "- homePage: La página de inicio de la película **cualitativa, nomial**\n",
    "- video: Si tiene videos promocionales o no **cualitativa, nominal**\n",
    "- director: Director de la película **cualitativo, nominal**\n",
    "- runtime: La duración de la película **cuantitativo, continuo**\n",
    "- genres: El género de la película **cualitativa, nominal**\n",
    "- genresAmount: Cantidad de géneros que representan la película **cuantitativo, discreto**\n",
    "- productionCompany: Las compañías productoras de la película **cualitativa, nominal**\n",
    "- productionCoAmount: Cantidad de compañías productoras que participaron en la película **cuantitativo, discreto**  \n",
    "- productionCompanyCountry: Países de las compañías productoras de la película **cualitativa, nominal**\n",
    "- productionCountry: Países en los que se llevó a cabo la producción de la película **cualitativo, nominal**\n",
    "- productionCountriesAmount: Cantidad de países en los que se rodó la película **cuantitativa, discreta**\n",
    "- releaseDate: Fecha de lanzamiento de la película **cuantitativo, discreto**\n",
    "- voteCount: El número de votos en la plataforma para la película **cuantitativo, discreto**\n",
    "- voteAvg: El promedio de los votos en la plataforma para la película **cuantitativo, continuo**\n",
    "- actors: Actores que participan en la película (Elenco) **cualitativo, nominal**\n",
    "- actorsPopularity: Índice de popularidad del elenco de la película **cuantiativo, continuo**\n",
    "- actorsCharacter: Personaje que interpreta cada actor en la película **cualitativo, nominal** \n",
    "- actorsAmount: Cantidad de personas que actúan en la película **cuantitativo, discreto**\n",
    "- castWomenAmount: Cantidad de actrices en el elenco de la película **cuantitativo, discreto**\n",
    "- castMenAmount: Cantidad de actores en el elenco de la película. **cuantitativo, discreto**"
   ]
  },
  {
   "cell_type": "markdown",
   "metadata": {},
   "source": [
    "## 3.(6 puntos) Investigue si las variables cuantitativas siguen una distribución normal y haga una tabla de frecuencias de las variables cualitativas. Explique todos los resultados. "
   ]
  },
  {
   "cell_type": "markdown",
   "metadata": {},
   "source": [
    "### popularity \n",
    "Se puede determinar que la variable de popularity **NO** sigue una distribucion normal debido a que el histograma no sigue la forma de campana, en el boxplot se puede observar como es que la mayoria de los datos no entran en la caja al igual que en el diagrama QQ se puede observar que los datos son muy distintos entre si."
   ]
  },
  {
   "cell_type": "code",
   "execution_count": 10,
   "metadata": {},
   "outputs": [
    {
     "data": {
      "text/plain": [
       "0        20.880\n",
       "1         9.596\n",
       "2       100.003\n",
       "3       134.435\n",
       "4        58.751\n",
       "         ...   \n",
       "9995     16.662\n",
       "9996    491.706\n",
       "9997    565.658\n",
       "9998      9.664\n",
       "9999     83.747\n",
       "Name: popularity, Length: 10000, dtype: float64"
      ]
     },
     "execution_count": 10,
     "metadata": {},
     "output_type": "execute_result"
    }
   ],
   "source": [
    "movies.popularity"
   ]
  },
  {
   "cell_type": "code",
   "execution_count": 30,
   "metadata": {},
   "outputs": [
    {
     "data": {
      "image/png": "[encoded data removed]",
      "text/plain": [
       "<Figure size 432x288 with 1 Axes>"
      ]
     },
     "metadata": {
      "needs_background": "light"
     },
     "output_type": "display_data"
    },
    {
     "data": {
      "image/png": "[encoded data removed]",
      "text/plain": [
       "<Figure size 432x288 with 1 Axes>"
      ]
     },
     "metadata": {
      "needs_background": "light"
     },
     "output_type": "display_data"
    },
    {
     "data": {
      "image/png": "[encoded data removed]",
      "text/plain": [
       "<Figure size 432x288 with 1 Axes>"
      ]
     },
     "metadata": {
      "needs_background": "light"
     },
     "output_type": "display_data"
    }
   ],
   "source": [
    "plt.boxplot(x = movies.popularity.dropna())\n",
    "plt.title('Histograma de la variable popularity')\n",
    "plt.xlabel('popularity')\n",
    "plt.ylabel('frencuencias')\n",
    "plt.show()\n",
    "\n",
    "plt.hist(x = movies.popularity.dropna())\n",
    "plt.title('Histograma de la variable popularity')\n",
    "plt.xlabel('popularity')\n",
    "plt.ylabel('frencuencias')\n",
    "plt.show()\n",
    "\n",
    "distribucion_generada = movies.popularity.dropna()\n",
    "# Represento el Q-Q plot\n",
    "qqplot(distribucion_generada , line='s')\n",
    "plt.show()"
   ]
  },
  {
   "cell_type": "markdown",
   "metadata": {},
   "source": [
    "#### popularity sin datos atipicos (menores < 1000)"
   ]
  },
  {
   "cell_type": "code",
   "execution_count": 29,
   "metadata": {},
   "outputs": [
    {
     "data": {
      "image/png": "[encoded data removed]",
      "text/plain": [
       "<Figure size 432x288 with 1 Axes>"
      ]
     },
     "metadata": {
      "needs_background": "light"
     },
     "output_type": "display_data"
    },
    {
     "data": {
      "image/png": "[encoded data removed]",
      "text/plain": [
       "<Figure size 432x288 with 1 Axes>"
      ]
     },
     "metadata": {
      "needs_background": "light"
     },
     "output_type": "display_data"
    },
    {
     "data": {
      "image/png": "[encoded data removed]",
      "text/plain": [
       "<Figure size 432x288 with 1 Axes>"
      ]
     },
     "metadata": {
      "needs_background": "light"
     },
     "output_type": "display_data"
    }
   ],
   "source": [
    "plt.hist(x = movies.popularity[movies.popularity < 1000].dropna())\n",
    "plt.title('Histograma de la variable popularity')\n",
    "plt.xlabel('popularity')\n",
    "plt.ylabel('frencuencias')\n",
    "plt.show()\n",
    "\n",
    "plt.boxplot(x = movies.popularity[movies.popularity < 1000].dropna())\n",
    "plt.title('Histograma de la variable popularity')\n",
    "plt.xlabel('popularity')\n",
    "plt.ylabel('frencuencias')\n",
    "plt.show()\n",
    "\n",
    "distribucion_generada = movies.popularity[movies.popularity < 1000].dropna()\n",
    "# Represento el Q-Q plot\n",
    "qqplot(distribucion_generada , line='s')\n",
    "plt.show()"
   ]
  },
  {
   "cell_type": "markdown",
   "metadata": {},
   "source": [
    "### budget"
   ]
  },
  {
   "cell_type": "code",
   "execution_count": 12,
   "metadata": {},
   "outputs": [
    {
     "data": {
      "image/png": "[encoded data removed]",
      "text/plain": [
       "<Figure size 432x288 with 1 Axes>"
      ]
     },
     "metadata": {
      "needs_background": "light"
     },
     "output_type": "display_data"
    },
    {
     "data": {
      "image/png": "[encoded data removed]",
      "text/plain": [
       "<Figure size 432x288 with 1 Axes>"
      ]
     },
     "metadata": {
      "needs_background": "light"
     },
     "output_type": "display_data"
    }
   ],
   "source": [
    "plt.hist(x = movies.budget.dropna(), color = '#F2AB6D', rwidth=1)\n",
    "plt.title('Histograma de la variable budget')\n",
    "plt.xlabel('budget')\n",
    "plt.ylabel('frencuencias')\n",
    "plt.show()\n",
    "\n",
    "distribucion_generada = movies.budget.dropna()\n",
    "# Represento el Q-Q plot\n",
    "qqplot(distribucion_generada , line='s')\n",
    "plt.show()"
   ]
  },
  {
   "cell_type": "markdown",
   "metadata": {},
   "source": [
    "### revenue"
   ]
  },
  {
   "cell_type": "markdown",
   "metadata": {},
   "source": [
    "### runtime"
   ]
  },
  {
   "cell_type": "markdown",
   "metadata": {},
   "source": [
    "### genresAmount"
   ]
  },
  {
   "cell_type": "markdown",
   "metadata": {},
   "source": [
    "### productionCoAmount"
   ]
  },
  {
   "cell_type": "markdown",
   "metadata": {},
   "source": [
    "### releaseDate"
   ]
  },
  {
   "cell_type": "markdown",
   "metadata": {},
   "source": [
    "### voteCount"
   ]
  },
  {
   "cell_type": "markdown",
   "metadata": {},
   "source": [
    "### voteCount"
   ]
  },
  {
   "cell_type": "markdown",
   "metadata": {},
   "source": [
    "## 4. Responda las siguientes preguntas: "
   ]
  }
 ],
 "metadata": {
  "interpreter": {
   "hash": "4d46db6e1e7dc1527ffac0d0f615a7bdece170757fd0b573e95b94a68f1d8cb2"
  },
  "kernelspec": {
   "display_name": "Python 3.9.6 64-bit",
   "language": "python",
   "name": "python3"
  },
  "language_info": {
   "codemirror_mode": {
    "name": "ipython",
    "version": 3
   },
   "file_extension": ".py",
   "mimetype": "text/x-python",
   "name": "python",
   "nbconvert_exporter": "python",
   "pygments_lexer": "ipython3",
   "version": "3.9.6"
  },
  "orig_nbformat": 4
 },
 "nbformat": 4,
 "nbformat_minor": 2
}
