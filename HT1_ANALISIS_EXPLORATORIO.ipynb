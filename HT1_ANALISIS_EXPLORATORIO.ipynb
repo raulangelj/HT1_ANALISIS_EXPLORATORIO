{
 "cells": [
  {
   "cell_type": "markdown",
   "metadata": {},
   "source": [
    "# Analisis Exploratorio (EDA) Ejercicio\n",
    "\n",
    "Raul Jimenez 19017\n",
    "\n",
    "Oscar Saravia 19322\n",
    "\n",
    "Donaldo Garcia 19683"
   ]
  },
  {
   "cell_type": "code",
   "execution_count": 142,
   "metadata": {},
   "outputs": [],
   "source": [
    "from statsmodels.graphics.gofplots import qqplot\n",
    "import numpy as np\n",
    "import pandas as pd\n",
    "import pandasql as ps\n",
    "import matplotlib\n",
    "import matplotlib.pyplot as plt\n",
    "import scipy.stats as stats\n",
    "import statsmodels.stats.diagnostic as diag\n",
    "import statsmodels.api as sm\n",
    "import seaborn as sns\n",
    "import random"
   ]
  },
  {
   "cell_type": "markdown",
   "metadata": {},
   "source": [
    "## 1. (3 puntos) Haga una exploración rápida de sus datos, para eso haga un resumen de su conjunto de datos. "
   ]
  },
  {
   "cell_type": "code",
   "execution_count": 143,
   "metadata": {},
   "outputs": [
    {
     "data": {
      "text/html": [
       "<div>\n",
       "<style scoped>\n",
       "    .dataframe tbody tr th:only-of-type {\n",
       "        vertical-align: middle;\n",
       "    }\n",
       "\n",
       "    .dataframe tbody tr th {\n",
       "        vertical-align: top;\n",
       "    }\n",
       "\n",
       "    .dataframe thead th {\n",
       "        text-align: right;\n",
       "    }\n",
       "</style>\n",
       "<table border=\"1\" class=\"dataframe\">\n",
       "  <thead>\n",
       "    <tr style=\"text-align: right;\">\n",
       "      <th></th>\n",
       "      <th>id</th>\n",
       "      <th>budget</th>\n",
       "      <th>genres</th>\n",
       "      <th>homePage</th>\n",
       "      <th>productionCompany</th>\n",
       "      <th>productionCompanyCountry</th>\n",
       "      <th>productionCountry</th>\n",
       "      <th>revenue</th>\n",
       "      <th>runtime</th>\n",
       "      <th>video</th>\n",
       "      <th>...</th>\n",
       "      <th>popularity</th>\n",
       "      <th>releaseDate</th>\n",
       "      <th>voteAvg</th>\n",
       "      <th>voteCount</th>\n",
       "      <th>genresAmount</th>\n",
       "      <th>productionCoAmount</th>\n",
       "      <th>productionCountriesAmount</th>\n",
       "      <th>actorsAmount</th>\n",
       "      <th>castWomenAmount</th>\n",
       "      <th>castMenAmount</th>\n",
       "    </tr>\n",
       "  </thead>\n",
       "  <tbody>\n",
       "    <tr>\n",
       "      <th>0</th>\n",
       "      <td>5</td>\n",
       "      <td>4000000</td>\n",
       "      <td>Crime|Comedy</td>\n",
       "      <td>https://www.miramax.com/movie/four-rooms/</td>\n",
       "      <td>Miramax|A Band Apart</td>\n",
       "      <td>US|US</td>\n",
       "      <td>United States of America</td>\n",
       "      <td>4257354.0</td>\n",
       "      <td>98</td>\n",
       "      <td>False</td>\n",
       "      <td>...</td>\n",
       "      <td>20.880</td>\n",
       "      <td>1995-12-09</td>\n",
       "      <td>5.7</td>\n",
       "      <td>2077</td>\n",
       "      <td>2</td>\n",
       "      <td>2</td>\n",
       "      <td>1</td>\n",
       "      <td>25</td>\n",
       "      <td>15</td>\n",
       "      <td>9</td>\n",
       "    </tr>\n",
       "    <tr>\n",
       "      <th>1</th>\n",
       "      <td>6</td>\n",
       "      <td>21000000</td>\n",
       "      <td>Action|Thriller|Crime</td>\n",
       "      <td>NaN</td>\n",
       "      <td>Universal Pictures|Largo Entertainment|JVC</td>\n",
       "      <td>US|US|JP</td>\n",
       "      <td>Japan|United States of America</td>\n",
       "      <td>12136938.0</td>\n",
       "      <td>110</td>\n",
       "      <td>False</td>\n",
       "      <td>...</td>\n",
       "      <td>9.596</td>\n",
       "      <td>1993-10-15</td>\n",
       "      <td>6.5</td>\n",
       "      <td>223</td>\n",
       "      <td>3</td>\n",
       "      <td>3</td>\n",
       "      <td>2</td>\n",
       "      <td>15</td>\n",
       "      <td>3</td>\n",
       "      <td>9</td>\n",
       "    </tr>\n",
       "    <tr>\n",
       "      <th>2</th>\n",
       "      <td>11</td>\n",
       "      <td>11000000</td>\n",
       "      <td>Adventure|Action|Science Fiction</td>\n",
       "      <td>http://www.starwars.com/films/star-wars-episod...</td>\n",
       "      <td>Lucasfilm|20th Century Fox</td>\n",
       "      <td>US|US</td>\n",
       "      <td>United States of America</td>\n",
       "      <td>775398007.0</td>\n",
       "      <td>121</td>\n",
       "      <td>NaN</td>\n",
       "      <td>...</td>\n",
       "      <td>100.003</td>\n",
       "      <td>1977-05-25</td>\n",
       "      <td>8.2</td>\n",
       "      <td>16598</td>\n",
       "      <td>3</td>\n",
       "      <td>2</td>\n",
       "      <td>1</td>\n",
       "      <td>105</td>\n",
       "      <td>5</td>\n",
       "      <td>62</td>\n",
       "    </tr>\n",
       "    <tr>\n",
       "      <th>3</th>\n",
       "      <td>12</td>\n",
       "      <td>94000000</td>\n",
       "      <td>Animation|Family</td>\n",
       "      <td>http://movies.disney.com/finding-nemo</td>\n",
       "      <td>Pixar</td>\n",
       "      <td>US</td>\n",
       "      <td>United States of America</td>\n",
       "      <td>940335536.0</td>\n",
       "      <td>100</td>\n",
       "      <td>NaN</td>\n",
       "      <td>...</td>\n",
       "      <td>134.435</td>\n",
       "      <td>2003-05-30</td>\n",
       "      <td>7.8</td>\n",
       "      <td>15928</td>\n",
       "      <td>2</td>\n",
       "      <td>1</td>\n",
       "      <td>1</td>\n",
       "      <td>24</td>\n",
       "      <td>5</td>\n",
       "      <td>18</td>\n",
       "    </tr>\n",
       "    <tr>\n",
       "      <th>4</th>\n",
       "      <td>13</td>\n",
       "      <td>55000000</td>\n",
       "      <td>Comedy|Drama|Romance</td>\n",
       "      <td>NaN</td>\n",
       "      <td>Paramount|The Steve Tisch Company</td>\n",
       "      <td>US|</td>\n",
       "      <td>United States of America</td>\n",
       "      <td>677387716.0</td>\n",
       "      <td>142</td>\n",
       "      <td>False</td>\n",
       "      <td>...</td>\n",
       "      <td>58.751</td>\n",
       "      <td>1994-07-06</td>\n",
       "      <td>8.5</td>\n",
       "      <td>22045</td>\n",
       "      <td>3</td>\n",
       "      <td>2</td>\n",
       "      <td>1</td>\n",
       "      <td>76</td>\n",
       "      <td>18</td>\n",
       "      <td>48</td>\n",
       "    </tr>\n",
       "  </tbody>\n",
       "</table>\n",
       "<p>5 rows × 27 columns</p>\n",
       "</div>"
      ],
      "text/plain": [
       "   id    budget                            genres  \\\n",
       "0   5   4000000                      Crime|Comedy   \n",
       "1   6  21000000             Action|Thriller|Crime   \n",
       "2  11  11000000  Adventure|Action|Science Fiction   \n",
       "3  12  94000000                  Animation|Family   \n",
       "4  13  55000000              Comedy|Drama|Romance   \n",
       "\n",
       "                                            homePage  \\\n",
       "0          https://www.miramax.com/movie/four-rooms/   \n",
       "1                                                NaN   \n",
       "2  http://www.starwars.com/films/star-wars-episod...   \n",
       "3              http://movies.disney.com/finding-nemo   \n",
       "4                                                NaN   \n",
       "\n",
       "                            productionCompany productionCompanyCountry  \\\n",
       "0                        Miramax|A Band Apart                    US|US   \n",
       "1  Universal Pictures|Largo Entertainment|JVC                 US|US|JP   \n",
       "2                  Lucasfilm|20th Century Fox                    US|US   \n",
       "3                                       Pixar                       US   \n",
       "4           Paramount|The Steve Tisch Company                      US|   \n",
       "\n",
       "                productionCountry      revenue  runtime  video  ...  \\\n",
       "0        United States of America    4257354.0       98  False  ...   \n",
       "1  Japan|United States of America   12136938.0      110  False  ...   \n",
       "2        United States of America  775398007.0      121    NaN  ...   \n",
       "3        United States of America  940335536.0      100    NaN  ...   \n",
       "4        United States of America  677387716.0      142  False  ...   \n",
       "\n",
       "  popularity releaseDate voteAvg voteCount genresAmount productionCoAmount  \\\n",
       "0     20.880  1995-12-09     5.7      2077            2                  2   \n",
       "1      9.596  1993-10-15     6.5       223            3                  3   \n",
       "2    100.003  1977-05-25     8.2     16598            3                  2   \n",
       "3    134.435  2003-05-30     7.8     15928            2                  1   \n",
       "4     58.751  1994-07-06     8.5     22045            3                  2   \n",
       "\n",
       "  productionCountriesAmount  actorsAmount castWomenAmount  castMenAmount  \n",
       "0                         1            25              15              9  \n",
       "1                         2            15               3              9  \n",
       "2                         1           105               5             62  \n",
       "3                         1            24               5             18  \n",
       "4                         1            76              18             48  \n",
       "\n",
       "[5 rows x 27 columns]"
      ]
     },
     "execution_count": 143,
     "metadata": {},
     "output_type": "execute_result"
    }
   ],
   "source": [
    "movies = pd.read_csv('./movies.csv', encoding ='latin1')\n",
    "movies.head()"
   ]
  },
  {
   "cell_type": "code",
   "execution_count": 144,
   "metadata": {},
   "outputs": [
    {
     "data": {
      "text/html": [
       "<div>\n",
       "<style scoped>\n",
       "    .dataframe tbody tr th:only-of-type {\n",
       "        vertical-align: middle;\n",
       "    }\n",
       "\n",
       "    .dataframe tbody tr th {\n",
       "        vertical-align: top;\n",
       "    }\n",
       "\n",
       "    .dataframe thead th {\n",
       "        text-align: right;\n",
       "    }\n",
       "</style>\n",
       "<table border=\"1\" class=\"dataframe\">\n",
       "  <thead>\n",
       "    <tr style=\"text-align: right;\">\n",
       "      <th></th>\n",
       "      <th>count</th>\n",
       "      <th>mean</th>\n",
       "      <th>std</th>\n",
       "      <th>min</th>\n",
       "      <th>25%</th>\n",
       "      <th>50%</th>\n",
       "      <th>75%</th>\n",
       "      <th>max</th>\n",
       "    </tr>\n",
       "  </thead>\n",
       "  <tbody>\n",
       "    <tr>\n",
       "      <th>id</th>\n",
       "      <td>10000.0</td>\n",
       "      <td>2.498768e+05</td>\n",
       "      <td>2.573801e+05</td>\n",
       "      <td>5.000</td>\n",
       "      <td>12286.50000</td>\n",
       "      <td>152558.0000</td>\n",
       "      <td>4.520218e+05</td>\n",
       "      <td>9.222600e+05</td>\n",
       "    </tr>\n",
       "    <tr>\n",
       "      <th>budget</th>\n",
       "      <td>10000.0</td>\n",
       "      <td>1.855163e+07</td>\n",
       "      <td>3.662669e+07</td>\n",
       "      <td>0.000</td>\n",
       "      <td>0.00000</td>\n",
       "      <td>500000.0000</td>\n",
       "      <td>2.000000e+07</td>\n",
       "      <td>3.800000e+08</td>\n",
       "    </tr>\n",
       "    <tr>\n",
       "      <th>revenue</th>\n",
       "      <td>10000.0</td>\n",
       "      <td>5.673793e+07</td>\n",
       "      <td>1.495854e+08</td>\n",
       "      <td>0.000</td>\n",
       "      <td>0.00000</td>\n",
       "      <td>163124.5000</td>\n",
       "      <td>4.479661e+07</td>\n",
       "      <td>2.847246e+09</td>\n",
       "    </tr>\n",
       "    <tr>\n",
       "      <th>runtime</th>\n",
       "      <td>10000.0</td>\n",
       "      <td>1.002681e+02</td>\n",
       "      <td>2.777783e+01</td>\n",
       "      <td>0.000</td>\n",
       "      <td>90.00000</td>\n",
       "      <td>100.0000</td>\n",
       "      <td>1.130000e+02</td>\n",
       "      <td>7.500000e+02</td>\n",
       "    </tr>\n",
       "    <tr>\n",
       "      <th>popularity</th>\n",
       "      <td>10000.0</td>\n",
       "      <td>5.139391e+01</td>\n",
       "      <td>2.167296e+02</td>\n",
       "      <td>4.258</td>\n",
       "      <td>14.57775</td>\n",
       "      <td>21.9055</td>\n",
       "      <td>4.065400e+01</td>\n",
       "      <td>1.147465e+04</td>\n",
       "    </tr>\n",
       "    <tr>\n",
       "      <th>voteAvg</th>\n",
       "      <td>10000.0</td>\n",
       "      <td>6.483490e+00</td>\n",
       "      <td>9.842740e-01</td>\n",
       "      <td>1.300</td>\n",
       "      <td>5.90000</td>\n",
       "      <td>6.5000</td>\n",
       "      <td>7.200000e+00</td>\n",
       "      <td>1.000000e+01</td>\n",
       "    </tr>\n",
       "    <tr>\n",
       "      <th>voteCount</th>\n",
       "      <td>10000.0</td>\n",
       "      <td>1.342382e+03</td>\n",
       "      <td>2.564197e+03</td>\n",
       "      <td>1.000</td>\n",
       "      <td>120.00000</td>\n",
       "      <td>415.0000</td>\n",
       "      <td>1.316000e+03</td>\n",
       "      <td>3.078800e+04</td>\n",
       "    </tr>\n",
       "    <tr>\n",
       "      <th>genresAmount</th>\n",
       "      <td>10000.0</td>\n",
       "      <td>2.596500e+00</td>\n",
       "      <td>1.154565e+00</td>\n",
       "      <td>0.000</td>\n",
       "      <td>2.00000</td>\n",
       "      <td>3.0000</td>\n",
       "      <td>3.000000e+00</td>\n",
       "      <td>1.600000e+01</td>\n",
       "    </tr>\n",
       "    <tr>\n",
       "      <th>productionCoAmount</th>\n",
       "      <td>10000.0</td>\n",
       "      <td>3.171400e+00</td>\n",
       "      <td>2.539738e+00</td>\n",
       "      <td>0.000</td>\n",
       "      <td>2.00000</td>\n",
       "      <td>3.0000</td>\n",
       "      <td>4.000000e+00</td>\n",
       "      <td>8.900000e+01</td>\n",
       "    </tr>\n",
       "    <tr>\n",
       "      <th>productionCountriesAmount</th>\n",
       "      <td>10000.0</td>\n",
       "      <td>1.751000e+00</td>\n",
       "      <td>3.012093e+00</td>\n",
       "      <td>0.000</td>\n",
       "      <td>1.00000</td>\n",
       "      <td>1.0000</td>\n",
       "      <td>2.000000e+00</td>\n",
       "      <td>1.550000e+02</td>\n",
       "    </tr>\n",
       "    <tr>\n",
       "      <th>actorsAmount</th>\n",
       "      <td>10000.0</td>\n",
       "      <td>2.147667e+03</td>\n",
       "      <td>3.720008e+04</td>\n",
       "      <td>0.000</td>\n",
       "      <td>13.00000</td>\n",
       "      <td>21.0000</td>\n",
       "      <td>3.600000e+01</td>\n",
       "      <td>9.195900e+05</td>\n",
       "    </tr>\n",
       "  </tbody>\n",
       "</table>\n",
       "</div>"
      ],
      "text/plain": [
       "                             count          mean           std    min  \\\n",
       "id                         10000.0  2.498768e+05  2.573801e+05  5.000   \n",
       "budget                     10000.0  1.855163e+07  3.662669e+07  0.000   \n",
       "revenue                    10000.0  5.673793e+07  1.495854e+08  0.000   \n",
       "runtime                    10000.0  1.002681e+02  2.777783e+01  0.000   \n",
       "popularity                 10000.0  5.139391e+01  2.167296e+02  4.258   \n",
       "voteAvg                    10000.0  6.483490e+00  9.842740e-01  1.300   \n",
       "voteCount                  10000.0  1.342382e+03  2.564197e+03  1.000   \n",
       "genresAmount               10000.0  2.596500e+00  1.154565e+00  0.000   \n",
       "productionCoAmount         10000.0  3.171400e+00  2.539738e+00  0.000   \n",
       "productionCountriesAmount  10000.0  1.751000e+00  3.012093e+00  0.000   \n",
       "actorsAmount               10000.0  2.147667e+03  3.720008e+04  0.000   \n",
       "\n",
       "                                   25%          50%           75%  \\\n",
       "id                         12286.50000  152558.0000  4.520218e+05   \n",
       "budget                         0.00000  500000.0000  2.000000e+07   \n",
       "revenue                        0.00000  163124.5000  4.479661e+07   \n",
       "runtime                       90.00000     100.0000  1.130000e+02   \n",
       "popularity                    14.57775      21.9055  4.065400e+01   \n",
       "voteAvg                        5.90000       6.5000  7.200000e+00   \n",
       "voteCount                    120.00000     415.0000  1.316000e+03   \n",
       "genresAmount                   2.00000       3.0000  3.000000e+00   \n",
       "productionCoAmount             2.00000       3.0000  4.000000e+00   \n",
       "productionCountriesAmount      1.00000       1.0000  2.000000e+00   \n",
       "actorsAmount                  13.00000      21.0000  3.600000e+01   \n",
       "\n",
       "                                    max  \n",
       "id                         9.222600e+05  \n",
       "budget                     3.800000e+08  \n",
       "revenue                    2.847246e+09  \n",
       "runtime                    7.500000e+02  \n",
       "popularity                 1.147465e+04  \n",
       "voteAvg                    1.000000e+01  \n",
       "voteCount                  3.078800e+04  \n",
       "genresAmount               1.600000e+01  \n",
       "productionCoAmount         8.900000e+01  \n",
       "productionCountriesAmount  1.550000e+02  \n",
       "actorsAmount               9.195900e+05  "
      ]
     },
     "execution_count": 144,
     "metadata": {},
     "output_type": "execute_result"
    }
   ],
   "source": [
    "movies.describe().transpose()"
   ]
  },
  {
   "cell_type": "markdown",
   "metadata": {},
   "source": [
    "## 2. (5 puntos) Diga el tipo de cada una de las variables (cualitativa ordinal o nominal, cuantitativa continua, cuantitativa discreta) "
   ]
  },
  {
   "cell_type": "markdown",
   "metadata": {},
   "source": [
    "- id: id de la película **cualitativo, ordinal**\n",
    "- popularity: Índice de popularidad de la película calculado semanalmente **cuantitativo, continuo** \n",
    "- budget: El presupuesto para la película **cuantitativo, continua** \n",
    "- revenue: El ingreso de la película **cuantitativo, continua**\n",
    "- original_title: El título original de la película, en su idioma original **cualitativa, nominal** \n",
    "- originalLanguage: Idioma original en que se encuentra la película **cualititva, nominal**\n",
    "- title: El título de la película traducido al inglés **cualitativa, nominal**\n",
    "- homePage: La página de inicio de la película **cualitativa, nomial**\n",
    "- video: Si tiene videos promocionales o no **cualitativa, nominal**\n",
    "- director: Director de la película **cualitativo, nominal**\n",
    "- runtime: La duración de la película **cuantitativo, continuo**\n",
    "- genres: El género de la película **cualitativa, nominal**\n",
    "- genresAmount: Cantidad de géneros que representan la película **cuantitativo, discreto**\n",
    "- productionCompany: Las compañías productoras de la película **cualitativa, nominal**\n",
    "- productionCoAmount: Cantidad de compañías productoras que participaron en la película **cuantitativo, discreto**  \n",
    "- productionCompanyCountry: Países de las compañías productoras de la película **cualitativa, nominal**\n",
    "- productionCountry: Países en los que se llevó a cabo la producción de la película **cualitativo, nominal**\n",
    "- productionCountriesAmount: Cantidad de países en los que se rodó la película **cuantitativa, discreta**\n",
    "- releaseDate: Fecha de lanzamiento de la película **cuantitativo, discreto**\n",
    "- voteCount: El número de votos en la plataforma para la película **cuantitativo, discreto**\n",
    "- voteAvg: El promedio de los votos en la plataforma para la película **cuantitativo, continuo**\n",
    "- actors: Actores que participan en la película (Elenco) **cualitativo, nominal**\n",
    "- actorsPopularity: Índice de popularidad del elenco de la película **cuantiativo, continuo**\n",
    "- actorsCharacter: Personaje que interpreta cada actor en la película **cualitativo, nominal** \n",
    "- actorsAmount: Cantidad de personas que actúan en la película **cuantitativo, discreto**\n",
    "- castWomenAmount: Cantidad de actrices en el elenco de la película **cuantitativo, discreto**\n",
    "- castMenAmount: Cantidad de actores en el elenco de la película. **cuantitativo, discreto**"
   ]
  },
  {
   "cell_type": "markdown",
   "metadata": {},
   "source": [
    "## 3.(6 puntos) Investigue si las variables cuantitativas siguen una distribución normal y haga una tabla de frecuencias de las variables cualitativas. Explique todos los resultados. "
   ]
  },
  {
   "cell_type": "markdown",
   "metadata": {},
   "source": [
    "### Tabla de frecuencias de variables cualitativas\n",
    "Las tablas de frecuencia de las variables cualitativas nos muestran que tan frecuentes son las variables en su categoría"
   ]
  },
  {
   "cell_type": "code",
   "execution_count": 145,
   "metadata": {},
   "outputs": [
    {
     "data": {
      "text/plain": [
       "||||                                                                                                                                                                                                                                                                                                                                                                                                                                     17\n",
       "|||||                                                                                                                                                                                                                                                                                                                                                                                                                                    16\n",
       "||||||                                                                                                                                                                                                                                                                                                                                                                                                                                   16\n",
       "|||                                                                                                                                                                                                                                                                                                                                                                                                                                      14\n",
       "|                                                                                                                                                                                                                                                                                                                                                                                                                                        13\n",
       "                                                                                                                                                                                                                                                                                                                                                                                                                                         ..\n",
       "Balto (voice)|Boris the Goose (voice)|Jenna (voice)|Steele the Sled Dog (voice)|Muk and Luk (voice)|Young Rosy (voice)|Nikki (voice)|Kaltag (voice)|Star (voice)|Dixie / Sylvie (voice)|Grizzly Bear (voice)|Grandma Rosy|Rosie's granddaughter                                                                                                                                                                                           1\n",
       "Taku Morisaki (voice)|Yutaka Matsuno (voice)|Rikako Mutou (voice)|Akiko Shimizu (voice)|Yumi Kohama (voice)|Okada (voice)|Taku's Mother (voice)|Girl (voice)|Minarai (voice)|Tadashi Yamao (voice)|Additional Voices (voice)|Additional Voices (voice)|Additional Voices (voice)                                                                                                                                                          1\n",
       "Dr. Gluckman / Martian Guard #1 / President (voice)|Martian Scientist / Court Attendant / Eyes At Gate (voice)|Peep / Press Girl (voice)|Commander Bristle / Martian Guard #3 (voice)|Major Buzz Blister / Martian General / Worker #3 (voice)|Grob / Gardener #1 / Martian Guard #2 (voice)|Tom / Press Guy #1 (voice)|Computer / Worker #1 / Worker #2 (voice)|Spike (voice)|Major Biff Buzzard / King Thingg / Gardener #2 (voice)     1\n",
       "Sayra|El Casper|El Smiley|Martha Marlene|El Sol|Leche/ Wounded Man|Kimberly|Resistol|Horacio|Lil' Mago|El Pícaro|Clarissa|Rosario|Tia Toña|Orlando|Yamila|Marero|El Scarface                                                                                                                                                                                                                                                              1\n",
       "922162                                                                                                                                                                                                                                                                                                                                                                                                                                    1\n",
       "Name: actorsCharacter, Length: 9796, dtype: int64"
      ]
     },
     "execution_count": 145,
     "metadata": {},
     "output_type": "execute_result"
    }
   ],
   "source": [
    "pd.value_counts(movies[\"actorsCharacter\"])"
   ]
  },
  {
   "cell_type": "code",
   "execution_count": 146,
   "metadata": {},
   "outputs": [
    {
     "data": {
      "text/plain": [
       "FALSE                                                                                                                                                                                                                                                                                                                                                                                                                       480\n",
       "TRUE                                                                                                                                                                                                                                                                                                                                                                                                                          6\n",
       "Kim Nam-joon|Kim Seok-jin|Min Yoon-gi|Jung Ho-seok|Park Ji-min|Kim Tae-hyung|Jeon Jung-kook                                                                                                                                                                                                                                                                                                                                   3\n",
       "Minami Takayama|Wakana Yamazaki|Akira Kamiya|Kappei Yamaguchi                                                                                                                                                                                                                                                                                                                                                                 2\n",
       "Pablo Escobar                                                                                                                                                                                                                                                                                                                                                                                                                 2\n",
       "                                                                                                                                                                                                                                                                                                                                                                                                                           ... \n",
       "Chris Klein|Heather Graham|Orlando Jones|Sally Field|Richard Jenkins|John Rothman|Jack Plotnick|Eddie Cibrian|Mark Pellegrino|Brent Hinkley|Henry Cho|Richard Riehle|Brent Briscoe|Ezra Buzzington|Julie White|David L. Lander|Lin Shaye|Barrow Davis|C. Ernst Harth|Connor Widdows|Courtney Peldon|Matthew Peters|Ed Holden|Sarah Silverman|Martin Morales|Dolores Drake|Colin Foo|Jackie Flynn|Zahf Paroo|Danny Murphy      1\n",
       "James Marsden|Gary Oldman|Amy Smart|Christopher Lloyd|Chris Cooper|Matthew Edison|Paul Brogren|Wayne Robson|Michael J. Fox|John Bourgeois|Melyssa Ade|Roz Michaels|Amy Stewart|Mark Lutz|Krista Leis|Michael Rhoades|Amy Jo Johnson|Deborah Odell|Jonathan Whittaker|Ann-Margret|Art Evans|Kurt Russell|Ho Chow                                                                                                               1\n",
       "Kenichi Matsuyama|Narushi Fukuda|Mayuko Fukuda|Shingo Tsurumi|Youki Kudoh|Sei Hiraizumi|Bokuzo Masana|Yuta Kanai|Megumi Sato|Renji Ishibashi|Kiyotaka Nanbara|Masanobu Takashima|Shunji Fujimura|Kazuki Namioka|Hao Ganhane|Erika Toda|Asaka Seto|Yoji Tanaka|Tatsuya Fujiwara|Ayui Naisora|Tim Man                                                                                                                           1\n",
       "Jay Chou|Gwei Lun-mei|Anthony Wong|Alice Tzeng|So Ming-Ming|Huang Jun-Lang|Devon Song|Zhan Yu-Hao|Chase Chang|Aviis Zhong|David Chang Hsun-Wei|Funky Tu|Tianze (Michael) Lin|Chou Yao-Chung|Du Guo-Zhang|Zhou Yao-Zhong|Huang Xin-Yu                                                                                                                                                                                          1\n",
       "Shaffy Bello-Akinrimisi|Funke Akindele|Joke Silva|Kate Henshaw-Nuttal|Rahama Sadau|Mawuli Gavor|Beverly Naya|Falz|Linda Ejiofor|Beverly Osu|Broda Shaggi|Williams Uzor Arukwe|Zainab Balogun|Dakore Egbuson-Akande|Rachel Oniga|Chigul|Nedu Wazobia                                                                                                                                                                           1\n",
       "Name: actors, Length: 9423, dtype: int64"
      ]
     },
     "execution_count": 146,
     "metadata": {},
     "output_type": "execute_result"
    }
   ],
   "source": [
    "pd.value_counts(movies[\"actors\"])"
   ]
  },
  {
   "cell_type": "code",
   "execution_count": 147,
   "metadata": {},
   "outputs": [
    {
     "data": {
      "text/plain": [
       "United States of America                                4971\n",
       "Japan                                                    613\n",
       "United Kingdom|United States of America                  339\n",
       "United Kingdom                                           294\n",
       "Canada|United States of America                          223\n",
       "                                                        ... \n",
       "United States of America|Norway|Sweden                     1\n",
       "Mexico|Taiwan|United States of America                     1\n",
       "Canada|China|Japan|United States of America                1\n",
       "China|Canada|United States of America|United Kingdom       1\n",
       "Ecuador                                                    1\n",
       "Name: productionCountry, Length: 879, dtype: int64"
      ]
     },
     "execution_count": 147,
     "metadata": {},
     "output_type": "execute_result"
    }
   ],
   "source": [
    "pd.value_counts(movies[\"productionCountry\"])"
   ]
  },
  {
   "cell_type": "code",
   "execution_count": 148,
   "metadata": {},
   "outputs": [
    {
     "data": {
      "text/plain": [
       "US                       997\n",
       "US|US                    792\n",
       "US|US|US                 452\n",
       "|US                      292\n",
       "US|                      265\n",
       "                        ... \n",
       "|FR||BE|FR||FR|FR|FR       1\n",
       "GB|DK||SE|DK|GB|IE|IE      1\n",
       "FR|FR||FR|CA|BE            1\n",
       "US|JP|KR|JP                1\n",
       "CO|CO                      1\n",
       "Name: productionCompanyCountry, Length: 2354, dtype: int64"
      ]
     },
     "execution_count": 148,
     "metadata": {},
     "output_type": "execute_result"
    }
   ],
   "source": [
    "pd.value_counts(movies[\"productionCompanyCountry\"])"
   ]
  },
  {
   "cell_type": "code",
   "execution_count": 149,
   "metadata": {},
   "outputs": [
    {
     "data": {
      "text/plain": [
       "Paramount                                                                                                  55\n",
       "Universal Pictures                                                                                         50\n",
       "Warner Bros. Pictures                                                                                      37\n",
       "Toei Animation                                                                                             34\n",
       "DreamWorks Animation                                                                                       33\n",
       "                                                                                                           ..\n",
       "PSC|Toho                                                                                                    1\n",
       "Martini Films|Paramount Famous Productions|Pure Pictures Entertainment|North by Northwest Entertainment     1\n",
       "DreamWorks Home Entertainment                                                                               1\n",
       "Omega Project|AtomFilms|Nemuru Otoko Seisaku Iinkai                                                         1\n",
       "Central Partnership|KIT Film Studio                                                                         1\n",
       "Name: productionCompany, Length: 8163, dtype: int64"
      ]
     },
     "execution_count": 149,
     "metadata": {},
     "output_type": "execute_result"
    }
   ],
   "source": [
    "pd.value_counts(movies[\"productionCompany\"])"
   ]
  },
  {
   "cell_type": "code",
   "execution_count": 150,
   "metadata": {},
   "outputs": [
    {
     "data": {
      "text/plain": [
       "Drama                                  521\n",
       "Comedy                                 440\n",
       "Horror                                 230\n",
       "Drama|Romance                          211\n",
       "Horror|Thriller                        205\n",
       "                                      ... \n",
       "Animation|Horror|Action|Comedy           1\n",
       "Science Fiction|Comedy|Adventure         1\n",
       "War|Action|Adventure|Drama|Thriller      1\n",
       "Horror|Comedy|Fantasy|Thriller           1\n",
       "Documentary|Animation|History            1\n",
       "Name: genres, Length: 2345, dtype: int64"
      ]
     },
     "execution_count": 150,
     "metadata": {},
     "output_type": "execute_result"
    }
   ],
   "source": [
    "pd.value_counts(movies[\"genres\"])"
   ]
  },
  {
   "cell_type": "code",
   "execution_count": 151,
   "metadata": {},
   "outputs": [
    {
     "data": {
      "text/plain": [
       "Steven Spielberg                                                                                                     29\n",
       "Clint Eastwood                                                                                                       28\n",
       "Ridley Scott                                                                                                         23\n",
       "Martin Scorsese                                                                                                      19\n",
       "Kunihiko Yuyama                                                                                                      19\n",
       "                                                                                                                     ..\n",
       "Kevin Farley                                                                                                          1\n",
       "Jürgen Brüning|Kristian Petersen|Todd Verow|Maria Beatty|Bruce LaBruce|Courtney Trouble|Manuela Kay|Émilie Jouvet     1\n",
       "Doug Ellin                                                                                                            1\n",
       "Ruairi Robinson                                                                                                       1\n",
       "Alexandr Babaev                                                                                                       1\n",
       "Name: director, Length: 5330, dtype: int64"
      ]
     },
     "execution_count": 151,
     "metadata": {},
     "output_type": "execute_result"
    }
   ],
   "source": [
    "pd.value_counts(movies[\"director\"])"
   ]
  },
  {
   "cell_type": "code",
   "execution_count": 152,
   "metadata": {},
   "outputs": [
    {
     "data": {
      "text/plain": [
       "False    9430\n",
       "True       84\n",
       "Name: video, dtype: int64"
      ]
     },
     "execution_count": 152,
     "metadata": {},
     "output_type": "execute_result"
    }
   ],
   "source": [
    "pd.value_counts(movies[\"video\"])"
   ]
  },
  {
   "cell_type": "code",
   "execution_count": 153,
   "metadata": {},
   "outputs": [
    {
     "data": {
      "text/plain": [
       "Pinocchio        4\n",
       "Cinderella       4\n",
       "Carrie           3\n",
       "The Courier      3\n",
       "Awake            3\n",
       "                ..\n",
       "Blind Horizon    1\n",
       "Chasing Papi     1\n",
       "The Eye 2        1\n",
       "An Education     1\n",
       "Row 19           1\n",
       "Name: title, Length: 9697, dtype: int64"
      ]
     },
     "execution_count": 153,
     "metadata": {},
     "output_type": "execute_result"
    }
   ],
   "source": [
    "pd.value_counts(movies[\"title\"])"
   ]
  },
  {
   "cell_type": "code",
   "execution_count": 154,
   "metadata": {},
   "outputs": [
    {
     "data": {
      "text/plain": [
       "en    7772\n",
       "ja     644\n",
       "es     425\n",
       "fr     271\n",
       "ko     167\n",
       "zh     119\n",
       "it     100\n",
       "de      84\n",
       "cn      80\n",
       "ru      67\n",
       "pt      43\n",
       "no      28\n",
       "sv      27\n",
       "hi      27\n",
       "da      27\n",
       "nl      18\n",
       "th      17\n",
       "pl      15\n",
       "id      12\n",
       "tr      10\n",
       "fi       8\n",
       "tl       5\n",
       "te       5\n",
       "sr       4\n",
       "is       4\n",
       "fa       3\n",
       "ro       2\n",
       "cs       2\n",
       "el       2\n",
       "uk       2\n",
       "ms       1\n",
       "ml       1\n",
       "ta       1\n",
       "la       1\n",
       "he       1\n",
       "ar       1\n",
       "eu       1\n",
       "bn       1\n",
       "nb       1\n",
       "ca       1\n",
       "Name: originalLanguage, dtype: int64"
      ]
     },
     "execution_count": 154,
     "metadata": {},
     "output_type": "execute_result"
    }
   ],
   "source": [
    "pd.value_counts(movies[\"originalLanguage\"])"
   ]
  },
  {
   "cell_type": "code",
   "execution_count": 155,
   "metadata": {},
   "outputs": [
    {
     "data": {
      "text/plain": [
       "Pinocchio                                                4\n",
       "Great Expectations                                       3\n",
       "Escape Room                                              3\n",
       "The Courier                                              3\n",
       "Alice in Wonderland                                      3\n",
       "                                                        ..\n",
       "Into the Sun                                             1\n",
       "The Land Before Time X: The Great Longneck Migration     1\n",
       "The Land Before Time XI: Invasion of the Tinysauruses    1\n",
       "Dug's Special Mission                                    1\n",
       "Row 19                                                   1\n",
       "Name: originalTitle, Length: 9760, dtype: int64"
      ]
     },
     "execution_count": 155,
     "metadata": {},
     "output_type": "execute_result"
    }
   ],
   "source": [
    "pd.value_counts(movies[\"originalTitle\"])"
   ]
  },
  {
   "cell_type": "code",
   "execution_count": 156,
   "metadata": {},
   "outputs": [
    {
     "data": {
      "text/plain": [
       "id                           10000\n",
       "budget                       10000\n",
       "genres                        9947\n",
       "homePage                      4193\n",
       "productionCompany             9543\n",
       "productionCompanyCountry      8720\n",
       "productionCountry             9767\n",
       "revenue                      10000\n",
       "runtime                      10000\n",
       "video                         9514\n",
       "director                      9926\n",
       "actors                        9920\n",
       "actorsPopularity              9913\n",
       "actorsCharacter               9953\n",
       "originalTitle                10000\n",
       "title                        10000\n",
       "originalLanguage             10000\n",
       "popularity                   10000\n",
       "releaseDate                  10000\n",
       "voteAvg                      10000\n",
       "voteCount                    10000\n",
       "genresAmount                 10000\n",
       "productionCoAmount           10000\n",
       "productionCountriesAmount    10000\n",
       "actorsAmount                 10000\n",
       "castWomenAmount              10000\n",
       "castMenAmount                10000\n",
       "dtype: int64"
      ]
     },
     "execution_count": 156,
     "metadata": {},
     "output_type": "execute_result"
    }
   ],
   "source": [
    "movies.count()"
   ]
  },
  {
   "cell_type": "markdown",
   "metadata": {},
   "source": [
    "### popularity \n",
    "Se puede determinar que la variable de popularity **NO** sigue una distribucion normal debido a que el histograma no sigue la forma de campana, en el boxplot se puede observar como es que la mayoria de los datos no entran en la caja al igual que en el diagrama QQ se puede observar que los datos son muy distintos entre si."
   ]
  },
  {
   "cell_type": "code",
   "execution_count": 157,
   "metadata": {},
   "outputs": [
    {
     "data": {
      "text/plain": [
       "9.336     4\n",
       "12.273    4\n",
       "11.878    4\n",
       "13.196    4\n",
       "14.134    4\n",
       "         ..\n",
       "57.905    1\n",
       "22.598    1\n",
       "13.058    1\n",
       "9.713     1\n",
       "83.747    1\n",
       "Name: popularity, Length: 8972, dtype: int64"
      ]
     },
     "execution_count": 157,
     "metadata": {},
     "output_type": "execute_result"
    }
   ],
   "source": [
    "pd.value_counts(movies.popularity)"
   ]
  },
  {
   "cell_type": "code",
   "execution_count": 158,
   "metadata": {},
   "outputs": [
    {
     "data": {
      "image/png": "[encoded data removed]",
      "text/plain": [
       "<Figure size 720x720 with 1 Axes>"
      ]
     },
     "metadata": {
      "needs_background": "light"
     },
     "output_type": "display_data"
    },
    {
     "data": {
      "image/png": "[encoded data removed]",
      "text/plain": [
       "<Figure size 720x720 with 1 Axes>"
      ]
     },
     "metadata": {
      "needs_background": "light"
     },
     "output_type": "display_data"
    },
    {
     "data": {
      "image/png": "[encoded data removed]",
      "text/plain": [
       "<Figure size 720x720 with 1 Axes>"
      ]
     },
     "metadata": {
      "needs_background": "light"
     },
     "output_type": "display_data"
    }
   ],
   "source": [
    "plt.boxplot(x = movies.popularity.dropna())\n",
    "plt.title('Histograma de la variable popularity')\n",
    "plt.xlabel('popularity')\n",
    "plt.ylabel('frencuencias')\n",
    "plt.show()\n",
    "\n",
    "plt.hist(x = movies.popularity.dropna())\n",
    "plt.title('Histograma de la variable popularity')\n",
    "plt.xlabel('popularity')\n",
    "plt.ylabel('frencuencias')\n",
    "plt.show()\n",
    "\n",
    "distribucion_generada = movies.popularity.dropna()\n",
    "# Represento el Q-Q plot\n",
    "qqplot(distribucion_generada , line='s')\n",
    "plt.show()"
   ]
  },
  {
   "cell_type": "markdown",
   "metadata": {},
   "source": [
    "#### popularity sin datos atipicos (menores < 1000)"
   ]
  },
  {
   "cell_type": "code",
   "execution_count": 159,
   "metadata": {},
   "outputs": [
    {
     "data": {
      "image/png": "[encoded data removed]",
      "text/plain": [
       "<Figure size 720x720 with 1 Axes>"
      ]
     },
     "metadata": {
      "needs_background": "light"
     },
     "output_type": "display_data"
    },
    {
     "data": {
      "image/png": "[encoded data removed]",
      "text/plain": [
       "<Figure size 720x720 with 1 Axes>"
      ]
     },
     "metadata": {
      "needs_background": "light"
     },
     "output_type": "display_data"
    },
    {
     "data": {
      "image/png": "[encoded data removed]",
      "text/plain": [
       "<Figure size 720x720 with 1 Axes>"
      ]
     },
     "metadata": {
      "needs_background": "light"
     },
     "output_type": "display_data"
    }
   ],
   "source": [
    "plt.hist(x = movies.popularity[movies.popularity < 1000].dropna())\n",
    "plt.title('Histograma de la variable popularity')\n",
    "plt.xlabel('popularity')\n",
    "plt.ylabel('frencuencias')\n",
    "plt.show()\n",
    "\n",
    "plt.boxplot(x = movies.popularity[movies.popularity < 1000].dropna())\n",
    "plt.title('Histograma de la variable popularity')\n",
    "plt.xlabel('popularity')\n",
    "plt.ylabel('frencuencias')\n",
    "plt.show()\n",
    "\n",
    "distribucion_generada = movies.popularity[movies.popularity < 1000].dropna()\n",
    "# Represento el Q-Q plot\n",
    "qqplot(distribucion_generada , line='s')\n",
    "plt.show()"
   ]
  },
  {
   "cell_type": "markdown",
   "metadata": {},
   "source": [
    "### budget \n",
    "Se puede determinar que la variable de budget **NO** sigue una distribucion normal debido a que el histograma no sigue la forma de campana, en el boxplot se puede observar como es que la mayoria de los datos no entran en la caja al igual que en el diagrama QQ se puede observar que los datos son muy distintos entre si."
   ]
  },
  {
   "cell_type": "code",
   "execution_count": 160,
   "metadata": {},
   "outputs": [
    {
     "data": {
      "image/png": "[encoded data removed]",
      "text/plain": [
       "<Figure size 720x720 with 1 Axes>"
      ]
     },
     "metadata": {
      "needs_background": "light"
     },
     "output_type": "display_data"
    },
    {
     "data": {
      "image/png": "[encoded data removed]",
      "text/plain": [
       "<Figure size 720x720 with 1 Axes>"
      ]
     },
     "metadata": {
      "needs_background": "light"
     },
     "output_type": "display_data"
    }
   ],
   "source": [
    "plt.hist(x = movies.budget.dropna(), color = '#F2AB6D', rwidth=1)\n",
    "plt.title('Histograma de la variable budget')\n",
    "plt.xlabel('budget')\n",
    "plt.ylabel('frencuencias')\n",
    "plt.show()\n",
    "\n",
    "distribucion_generada = movies.budget.dropna()\n",
    "# Represento el Q-Q plot\n",
    "qqplot(distribucion_generada , line='s')\n",
    "plt.show()"
   ]
  },
  {
   "cell_type": "markdown",
   "metadata": {},
   "source": [
    "### revenue\n",
    "Se puede determinar que la variable de revenue **NO** sigue una distribucion normal debido a que el histograma no sigue la forma de campana, en el boxplot se puede observar como es que la mayoria de los datos no entran en la caja al igual que en el diagrama QQ se puede observar que los datos son muy distintos entre si."
   ]
  },
  {
   "cell_type": "code",
   "execution_count": 161,
   "metadata": {},
   "outputs": [
    {
     "data": {
      "image/png": "[encoded data removed]",
      "text/plain": [
       "<Figure size 720x720 with 1 Axes>"
      ]
     },
     "metadata": {
      "needs_background": "light"
     },
     "output_type": "display_data"
    },
    {
     "data": {
      "image/png": "[encoded data removed]",
      "text/plain": [
       "<Figure size 720x720 with 1 Axes>"
      ]
     },
     "metadata": {
      "needs_background": "light"
     },
     "output_type": "display_data"
    }
   ],
   "source": [
    "plt.hist(x = movies.revenue.dropna(), color = '#F2AB6D', rwidth=1)\n",
    "plt.title('Histograma de la variable revenue')\n",
    "plt.xlabel('revenue')\n",
    "plt.ylabel('frencuencias')\n",
    "plt.show()\n",
    "\n",
    "distribucion_generada = movies.revenue.dropna()\n",
    "# Represento el Q-Q plot\n",
    "qqplot(distribucion_generada , line='s')\n",
    "plt.show()"
   ]
  },
  {
   "cell_type": "markdown",
   "metadata": {},
   "source": [
    "### runtime\n",
    "Se puede determinar que la variable de runtime **NO** sigue una distribucion normal debido a que el histograma no sigue la forma de campana, en el boxplot se puede observar como es que la mayoria de los datos no entran en la caja al igual que en el diagrama QQ se puede observar que los datos son muy distintos entre si."
   ]
  },
  {
   "cell_type": "code",
   "execution_count": 162,
   "metadata": {},
   "outputs": [
    {
     "data": {
      "image/png": "[encoded data removed]",
      "text/plain": [
       "<Figure size 720x720 with 1 Axes>"
      ]
     },
     "metadata": {
      "needs_background": "light"
     },
     "output_type": "display_data"
    },
    {
     "data": {
      "image/png": "[encoded data removed]",
      "text/plain": [
       "<Figure size 720x720 with 1 Axes>"
      ]
     },
     "metadata": {
      "needs_background": "light"
     },
     "output_type": "display_data"
    }
   ],
   "source": [
    "plt.hist(x = movies.runtime.dropna(), color = '#F2AB6D', rwidth=1)\n",
    "plt.title('Histograma de la variable runtime')\n",
    "plt.xlabel('runtime')\n",
    "plt.ylabel('frencuencias')\n",
    "plt.show()\n",
    "\n",
    "distribucion_generada = movies.runtime.dropna()\n",
    "# Represento el Q-Q plot\n",
    "qqplot(distribucion_generada , line='s')\n",
    "plt.show()"
   ]
  },
  {
   "cell_type": "markdown",
   "metadata": {},
   "source": [
    "### genresAmount\n",
    "Se puede determinar que la variable de genresAmount **NO** sigue una distribucion normal debido a que el histograma no sigue la forma de campana, en el boxplot se puede observar como es que la mayoria de los datos no entran en la caja al igual que en el diagrama QQ se puede observar que los datos son muy distintos entre si."
   ]
  },
  {
   "cell_type": "code",
   "execution_count": 163,
   "metadata": {},
   "outputs": [
    {
     "data": {
      "image/png": "[encoded data removed]",
      "text/plain": [
       "<Figure size 720x720 with 1 Axes>"
      ]
     },
     "metadata": {
      "needs_background": "light"
     },
     "output_type": "display_data"
    },
    {
     "data": {
      "image/png": "[encoded data removed]",
      "text/plain": [
       "<Figure size 720x720 with 1 Axes>"
      ]
     },
     "metadata": {
      "needs_background": "light"
     },
     "output_type": "display_data"
    }
   ],
   "source": [
    "plt.hist(x = movies.genresAmount.dropna(), color = '#F2AB6D', rwidth=1)\n",
    "plt.title('Histograma de la variable genresAmount')\n",
    "plt.xlabel('genresAmount')\n",
    "plt.ylabel('frencuencias')\n",
    "plt.show()\n",
    "\n",
    "distribucion_generada = movies.genresAmount.dropna()\n",
    "# Represento el Q-Q plot\n",
    "qqplot(distribucion_generada , line='s')\n",
    "plt.show()"
   ]
  },
  {
   "cell_type": "markdown",
   "metadata": {},
   "source": [
    "### productionCoAmount\n",
    "Se puede determinar que la variable de productionCoAmount **NO** sigue una distribucion normal debido a que el histograma no sigue la forma de campana, en el boxplot se puede observar como es que la mayoria de los datos no entran en la caja al igual que en el diagrama QQ se puede observar que los datos son muy distintos entre si."
   ]
  },
  {
   "cell_type": "code",
   "execution_count": 164,
   "metadata": {},
   "outputs": [
    {
     "data": {
      "image/png": "[encoded data removed]",
      "text/plain": [
       "<Figure size 720x720 with 1 Axes>"
      ]
     },
     "metadata": {
      "needs_background": "light"
     },
     "output_type": "display_data"
    },
    {
     "data": {
      "image/png": "[encoded data removed]",
      "text/plain": [
       "<Figure size 720x720 with 1 Axes>"
      ]
     },
     "metadata": {
      "needs_background": "light"
     },
     "output_type": "display_data"
    }
   ],
   "source": [
    "plt.hist(x = movies.productionCoAmount.dropna(), color = '#F2AB6D', rwidth=1)\n",
    "plt.title('Histograma de la variable productionCoAmount')\n",
    "plt.xlabel('productionCoAmount')\n",
    "plt.ylabel('frencuencias')\n",
    "plt.show()\n",
    "\n",
    "distribucion_generada = movies.productionCoAmount.dropna()\n",
    "# Represento el Q-Q plot\n",
    "qqplot(distribucion_generada , line='s')\n",
    "plt.show()"
   ]
  },
  {
   "cell_type": "markdown",
   "metadata": {},
   "source": [
    "### productionCountriesAmount\n",
    "Se puede determinar que la variable de productionCountriesAmount **NO** sigue una distribucion normal debido a que el histograma no sigue la forma de campana, en el boxplot se puede observar como es que la mayoria de los datos no entran en la caja al igual que en el diagrama QQ se puede observar que los datos son muy distintos entre si."
   ]
  },
  {
   "cell_type": "code",
   "execution_count": 165,
   "metadata": {},
   "outputs": [
    {
     "data": {
      "image/png": "[encoded data removed]",
      "text/plain": [
       "<Figure size 720x720 with 1 Axes>"
      ]
     },
     "metadata": {
      "needs_background": "light"
     },
     "output_type": "display_data"
    },
    {
     "data": {
      "image/png": "[encoded data removed]",
      "text/plain": [
       "<Figure size 720x720 with 1 Axes>"
      ]
     },
     "metadata": {
      "needs_background": "light"
     },
     "output_type": "display_data"
    }
   ],
   "source": [
    "plt.hist(x = movies.productionCountriesAmount.dropna(), color = '#F2AB6D', rwidth=1)\n",
    "plt.title('Histograma de la variable productionCountriesAmount')\n",
    "plt.xlabel('productionCountriesAmount')\n",
    "plt.ylabel('frencuencias')\n",
    "plt.show()\n",
    "\n",
    "distribucion_generada = movies.productionCountriesAmount.dropna()\n",
    "# Represento el Q-Q plot\n",
    "qqplot(distribucion_generada , line='s')\n",
    "plt.show()"
   ]
  },
  {
   "cell_type": "markdown",
   "metadata": {},
   "source": [
    "### releaseDate\n",
    "Se puede determinar que la variable de releaseDate **NO** sigue una distribucion normal debido a que el histograma no sigue la forma de campana, en el boxplot se puede observar como es que la mayoria de los datos no entran en la caja al igual que en el diagrama QQ se puede observar que los datos son muy distintos entre si."
   ]
  },
  {
   "cell_type": "code",
   "execution_count": 166,
   "metadata": {},
   "outputs": [
    {
     "data": {
      "image/png": "[encoded data removed]",
      "text/plain": [
       "<Figure size 720x720 with 1 Axes>"
      ]
     },
     "metadata": {
      "needs_background": "light"
     },
     "output_type": "display_data"
    }
   ],
   "source": [
    "plt.hist(x = movies.releaseDate.dropna(), color = '#F2AB6D', rwidth=1)\n",
    "plt.title('Histograma de la variable releaseDate')\n",
    "plt.xlabel('releaseDate')\n",
    "plt.ylabel('frencuencias')\n",
    "plt.show()\n"
   ]
  },
  {
   "cell_type": "markdown",
   "metadata": {},
   "source": [
    "### voteCount\n",
    "Se puede determinar que la variable de voteCount **NO** sigue una distribucion normal debido a que el histograma no sigue la forma de campana, en el boxplot se puede observar como es que la mayoria de los datos no entran en la caja al igual que en el diagrama QQ se puede observar que los datos son muy distintos entre si."
   ]
  },
  {
   "cell_type": "code",
   "execution_count": 167,
   "metadata": {},
   "outputs": [
    {
     "data": {
      "image/png": "[encoded data removed]",
      "text/plain": [
       "<Figure size 720x720 with 1 Axes>"
      ]
     },
     "metadata": {
      "needs_background": "light"
     },
     "output_type": "display_data"
    },
    {
     "data": {
      "image/png": "[encoded data removed]",
      "text/plain": [
       "<Figure size 720x720 with 1 Axes>"
      ]
     },
     "metadata": {
      "needs_background": "light"
     },
     "output_type": "display_data"
    }
   ],
   "source": [
    "plt.hist(x = movies.voteCount.dropna(), color = '#F2AB6D', rwidth=1)\n",
    "plt.title('Histograma de la variable voteCount')\n",
    "plt.xlabel('voteCount')\n",
    "plt.ylabel('frencuencias')\n",
    "plt.show()\n",
    "\n",
    "distribucion_generada = movies.voteCount.dropna()\n",
    "# Represento el Q-Q plot\n",
    "qqplot(distribucion_generada , line='s')\n",
    "plt.show()"
   ]
  },
  {
   "cell_type": "markdown",
   "metadata": {},
   "source": [
    "### voteAvg\n",
    "Se puede determinar que la variable de voteAvg **NO** sigue una distribucion normal debido a que el histograma no sigue la forma de campana, en el boxplot se puede observar como es que la mayoria de los datos no entran en la caja al igual que en el diagrama QQ se puede observar que los datos son muy distintos entre si."
   ]
  },
  {
   "cell_type": "code",
   "execution_count": 168,
   "metadata": {},
   "outputs": [
    {
     "data": {
      "image/png": "[encoded data removed]",
      "text/plain": [
       "<Figure size 720x720 with 1 Axes>"
      ]
     },
     "metadata": {
      "needs_background": "light"
     },
     "output_type": "display_data"
    },
    {
     "data": {
      "image/png": "[encoded data removed]",
      "text/plain": [
       "<Figure size 720x720 with 1 Axes>"
      ]
     },
     "metadata": {
      "needs_background": "light"
     },
     "output_type": "display_data"
    }
   ],
   "source": [
    "plt.hist(x = movies.voteAvg.dropna(), color = '#F2AB6D', rwidth=1)\n",
    "plt.title('Histograma de la variable voteAvg')\n",
    "plt.xlabel('voteAvg')\n",
    "plt.ylabel('frencuencias')\n",
    "plt.show()\n",
    "\n",
    "distribucion_generada = movies.voteAvg.dropna()\n",
    "# Represento el Q-Q plot\n",
    "qqplot(distribucion_generada , line='s')\n",
    "plt.show()"
   ]
  },
  {
   "cell_type": "markdown",
   "metadata": {},
   "source": [
    "### actorsAmount\n",
    "Se puede determinar que la variable de actorsAmount **NO** sigue una distribucion normal debido a que el histograma no sigue la forma de campana, en el boxplot se puede observar como es que la mayoria de los datos no entran en la caja al igual que en el diagrama QQ se puede observar que los datos son muy distintos entre si."
   ]
  },
  {
   "cell_type": "code",
   "execution_count": 169,
   "metadata": {},
   "outputs": [
    {
     "data": {
      "image/png": "[encoded data removed]",
      "text/plain": [
       "<Figure size 720x720 with 1 Axes>"
      ]
     },
     "metadata": {
      "needs_background": "light"
     },
     "output_type": "display_data"
    },
    {
     "data": {
      "image/png": "[encoded data removed]",
      "text/plain": [
       "<Figure size 720x720 with 1 Axes>"
      ]
     },
     "metadata": {
      "needs_background": "light"
     },
     "output_type": "display_data"
    }
   ],
   "source": [
    "plt.hist(x = movies.actorsAmount.dropna(), color = '#F2AB6D', rwidth=1)\n",
    "plt.title('Histograma de la variable actorsAmount')\n",
    "plt.xlabel('actorsAmount')\n",
    "plt.ylabel('frencuencias')\n",
    "plt.show()\n",
    "\n",
    "distribucion_generada = movies.actorsAmount.dropna()\n",
    "# Represento el Q-Q plot\n",
    "qqplot(distribucion_generada , line='s')\n",
    "plt.show()"
   ]
  },
  {
   "cell_type": "markdown",
   "metadata": {},
   "source": [
    "### castWomenAmount\n",
    "Se puede determinar que la variable de castWomenAmount **NO** sigue una distribucion normal debido a que el histograma no sigue la forma de campana, en el boxplot se puede observar como es que la mayoria de los datos no entran en la caja al igual que en el diagrama QQ se puede observar que los datos son muy distintos entre si."
   ]
  },
  {
   "cell_type": "code",
   "execution_count": 170,
   "metadata": {},
   "outputs": [],
   "source": [
    "movies['castWomenAmount'] = movies['castWomenAmount'].apply(lambda x: int(x) if str.isdigit(x) and int(x) < 500  else 0)\n"
   ]
  },
  {
   "cell_type": "code",
   "execution_count": 171,
   "metadata": {},
   "outputs": [
    {
     "data": {
      "image/png": "[encoded data removed]",
      "text/plain": [
       "<Figure size 720x720 with 1 Axes>"
      ]
     },
     "metadata": {
      "needs_background": "light"
     },
     "output_type": "display_data"
    }
   ],
   "source": [
    "plt.hist(x = movies.castWomenAmount.dropna(), color = '#F2AB6D', rwidth=1)\n",
    "plt.title('Histograma de la variable castWomenAmount')\n",
    "plt.xlabel('castWomenAmount')\n",
    "plt.ylabel('frencuencias')\n",
    "plt.rcParams['figure.figsize'] = (30, 30)\n",
    "plt.show()\n",
    "\n",
    "# distribucion_generada = movies.castWomenAmount.dropna()\n",
    "# # Represento el Q-Q plot\n",
    "# qqplot(distribucion_generada , line='s')\n",
    "# plt.show()\n"
   ]
  },
  {
   "cell_type": "markdown",
   "metadata": {},
   "source": [
    "### castMenAmount\n",
    "Se puede determinar que la variable de castMenAmount **NO** sigue una distribucion normal debido a que el histograma no sigue la forma de campana, en el boxplot se puede observar como es que la mayoria de los datos no entran en la caja al igual que en el diagrama QQ se puede observar que los datos son muy distintos entre si."
   ]
  },
  {
   "cell_type": "code",
   "execution_count": 172,
   "metadata": {},
   "outputs": [],
   "source": [
    "movies['castMenAmount'] = movies['castMenAmount'].apply(lambda x: int(x) if str.isdigit(x) and int(x) < 500  else 0)"
   ]
  },
  {
   "cell_type": "code",
   "execution_count": 173,
   "metadata": {},
   "outputs": [
    {
     "data": {
      "image/png": "[encoded data removed]",
      "text/plain": [
       "<Figure size 2160x2160 with 1 Axes>"
      ]
     },
     "metadata": {
      "needs_background": "light"
     },
     "output_type": "display_data"
    }
   ],
   "source": [
    "plt.hist(x = movies.castMenAmount.dropna(), color = '#F2AB6D', rwidth=1)\n",
    "plt.title('Histograma de la variable castMenAmount')\n",
    "plt.xlabel('castMenAmount')\n",
    "plt.ylabel('frencuencias')\n",
    "plt.rcParams['figure.figsize'] = (30, 30)\n",
    "plt.show()\n",
    "\n",
    "# distribucion_generada = movies.castMenAmount.dropna()\n",
    "# # Represento el Q-Q plot\n",
    "# qqplot(distribucion_generada , line='s')\n",
    "# plt.show()\n"
   ]
  },
  {
   "cell_type": "markdown",
   "metadata": {},
   "source": [
    "## 4. Responda las siguientes preguntas: "
   ]
  },
  {
   "cell_type": "markdown",
   "metadata": {},
   "source": [
    "### 4.1 (3 puntos) ¿Cuáles son las 10 películas que contaron con más presupuesto?\n",
    "\n",
    "Se usa la tabla para mostrar las 10 peliculas que contaron con mas presupuesto"
   ]
  },
  {
   "cell_type": "code",
   "execution_count": 174,
   "metadata": {},
   "outputs": [
    {
     "data": {
      "text/plain": [
       "716     Pirates of the Caribbean: On Stranger Tides\n",
       "4710                        Avengers: Age of Ultron\n",
       "5952                              Avengers: Endgame\n",
       "163        Pirates of the Caribbean: At World's End\n",
       "4953                                 Justice League\n",
       "5953                         Avengers: Infinity War\n",
       "607                                Superman Returns\n",
       "3791                                        Tangled\n",
       "7134                                  The Lion King\n",
       "280                                    Spider-Man 3\n",
       "Name: title, dtype: object"
      ]
     },
     "execution_count": 174,
     "metadata": {},
     "output_type": "execute_result"
    }
   ],
   "source": [
    "movies.nlargest(10, 'budget')['title']"
   ]
  },
  {
   "cell_type": "markdown",
   "metadata": {},
   "source": [
    "### 4.2 (3 puntos) ¿Cuáles son las 10 películas que más ingresos tuvieron? \n",
    "\n",
    "Se usa la tabla para mostrar cuales fueron las 10 peliculas que mas ingresos tuvieron"
   ]
  },
  {
   "cell_type": "code",
   "execution_count": 175,
   "metadata": {},
   "outputs": [
    {
     "data": {
      "text/plain": [
       "3210                          Avatar\n",
       "5952               Avengers: Endgame\n",
       "307                          Titanic\n",
       "4947    Star Wars: The Force Awakens\n",
       "5953          Avengers: Infinity War\n",
       "4914                  Jurassic World\n",
       "7134                   The Lion King\n",
       "9049         Spider-Man: No Way Home\n",
       "3397                    The Avengers\n",
       "5087                       Furious 7\n",
       "Name: title, dtype: object"
      ]
     },
     "execution_count": 175,
     "metadata": {},
     "output_type": "execute_result"
    }
   ],
   "source": [
    "movies.nlargest(10, 'revenue')['title']"
   ]
  },
  {
   "cell_type": "markdown",
   "metadata": {},
   "source": [
    "### 4.3 (3 puntos) ¿Cuál es la película que más votos tuvo?\n",
    "\n",
    "Se usa el comando nlargest para mostar cual es la pelicula con mayor cantidad de votos"
   ]
  },
  {
   "cell_type": "code",
   "execution_count": 176,
   "metadata": {},
   "outputs": [
    {
     "data": {
      "text/plain": [
       "3511    Inception\n",
       "Name: title, dtype: object"
      ]
     },
     "execution_count": 176,
     "metadata": {},
     "output_type": "execute_result"
    }
   ],
   "source": [
    "movies.nlargest(1, 'voteCount')['title']"
   ]
  },
  {
   "cell_type": "markdown",
   "metadata": {},
   "source": [
    "### 4.4 (3 puntos) ¿Cuál es la peor película de acuerdo a los votos de todos los usuarios?\n",
    "\n",
    "Se usa el comando nsmallest para mostrar la pelicula que menor cantidad de votos y asi determinar que es la peor pelicula"
   ]
  },
  {
   "cell_type": "code",
   "execution_count": 177,
   "metadata": {},
   "outputs": [
    {
     "data": {
      "text/plain": [
       "9786    DAKAICHI -I'm Being Harassed by the Sexiest Ma...\n",
       "Name: title, dtype: object"
      ]
     },
     "execution_count": 177,
     "metadata": {},
     "output_type": "execute_result"
    }
   ],
   "source": [
    "movies.nsmallest(1, 'voteAvg')['title']"
   ]
  },
  {
   "cell_type": "markdown",
   "metadata": {},
   "source": [
    "### 4.5 (8  puntos)  ¿Cuántas  películas  se  hicieron  en  cada  año?  ¿En  qué  año  se  hicieron  más películas? Haga un gráfico de barras \n",
    "\n",
    "- Se usa la tabla y la grafica para determinar la cantidad de peliculas que se hicieron cada año\n",
    "- En base a esos datos se puede determinar que en el año 2021 se hicieron mas peliculas, pasando las 800"
   ]
  },
  {
   "cell_type": "code",
   "execution_count": 178,
   "metadata": {},
   "outputs": [
    {
     "data": {
      "text/plain": [
       "2021    816\n",
       "2018    629\n",
       "2017    618\n",
       "2019    612\n",
       "2016    557\n",
       "       ... \n",
       "1936      1\n",
       "1929      1\n",
       "1926      1\n",
       "1902      1\n",
       "1935      1\n",
       "Name: releaseDate, Length: 99, dtype: int64"
      ]
     },
     "execution_count": 178,
     "metadata": {},
     "output_type": "execute_result"
    }
   ],
   "source": [
    "pd.value_counts(pd.to_datetime(movies.releaseDate).dt.year)"
   ]
  },
  {
   "cell_type": "code",
   "execution_count": 179,
   "metadata": {},
   "outputs": [
    {
     "data": {
      "image/png": "[encoded data removed]",
      "text/plain": [
       "<Figure size 2160x2160 with 1 Axes>"
      ]
     },
     "metadata": {
      "needs_background": "light"
     },
     "output_type": "display_data"
    }
   ],
   "source": [
    "# Diagrama de barras es para cualitativas y histograma es cuantitativa\n",
    "eje_x = np.array(pd.value_counts(pd.to_datetime(movies.releaseDate).dt.year).keys())\n",
    "eje_y = pd.value_counts(pd.to_datetime(movies.releaseDate).dt.year)\n",
    "\n",
    "plt.bar(eje_x, eje_y)\n",
    "plt.rcParams['figure.figsize'] = (10, 10)\n",
    "plt.ylabel('Frecuencia de la variable release year')\n",
    "plt.xlabel('Años')\n",
    "plt.title('Grafico de barras para la variable release year')\n",
    "plt.show()"
   ]
  },
  {
   "cell_type": "markdown",
   "metadata": {},
   "source": [
    "### 4.6 (9 puntos) ¿Cuál es el género principal de las 20 películas más recientes? ¿Cuál es el género principal que predomina en el conjunto de datos? Represéntelo usando un gráfico \n",
    "\n",
    "- Se agrega el primer genero de las peliculas en una nueva columna y se determina cuales son los generos de las 20 peliculas mas recientes.\n",
    "- Para las primeras 20 se puede determinar con la tabla y la grafica que el genero predominante es el de **Comedia** seguido por **Drama** \n",
    "- El genero que predomina en todos los datos es **Drama**"
   ]
  },
  {
   "cell_type": "code",
   "execution_count": 180,
   "metadata": {},
   "outputs": [],
   "source": [
    "movies['firstGenre'] = movies['genres'].str.split('|', n=-1).str[0]"
   ]
  },
  {
   "cell_type": "code",
   "execution_count": 181,
   "metadata": {},
   "outputs": [
    {
     "data": {
      "text/html": [
       "<div>\n",
       "<style scoped>\n",
       "    .dataframe tbody tr th:only-of-type {\n",
       "        vertical-align: middle;\n",
       "    }\n",
       "\n",
       "    .dataframe tbody tr th {\n",
       "        vertical-align: top;\n",
       "    }\n",
       "\n",
       "    .dataframe thead th {\n",
       "        text-align: right;\n",
       "    }\n",
       "</style>\n",
       "<table border=\"1\" class=\"dataframe\">\n",
       "  <thead>\n",
       "    <tr style=\"text-align: right;\">\n",
       "      <th></th>\n",
       "      <th>title</th>\n",
       "      <th>firstGenre</th>\n",
       "      <th>releaseDate</th>\n",
       "    </tr>\n",
       "  </thead>\n",
       "  <tbody>\n",
       "    <tr>\n",
       "      <th>9516</th>\n",
       "      <td>A Shot Through the Wall</td>\n",
       "      <td>Drama</td>\n",
       "      <td>2022-01-21</td>\n",
       "    </tr>\n",
       "    <tr>\n",
       "      <th>9545</th>\n",
       "      <td>Presque</td>\n",
       "      <td>Comedy</td>\n",
       "      <td>2022-01-19</td>\n",
       "    </tr>\n",
       "    <tr>\n",
       "      <th>9197</th>\n",
       "      <td>Italian Studies</td>\n",
       "      <td>Drama</td>\n",
       "      <td>2022-01-14</td>\n",
       "    </tr>\n",
       "    <tr>\n",
       "      <th>9808</th>\n",
       "      <td>See for Me</td>\n",
       "      <td>Thriller</td>\n",
       "      <td>2022-01-07</td>\n",
       "    </tr>\n",
       "    <tr>\n",
       "      <th>9586</th>\n",
       "      <td>American Siege</td>\n",
       "      <td>Action</td>\n",
       "      <td>2022-01-07</td>\n",
       "    </tr>\n",
       "    <tr>\n",
       "      <th>9982</th>\n",
       "      <td>Harry Potter 20th Anniversary: Return to Hogwarts</td>\n",
       "      <td>Documentary</td>\n",
       "      <td>2022-01-01</td>\n",
       "    </tr>\n",
       "    <tr>\n",
       "      <th>9951</th>\n",
       "      <td>WWE Day 1 2022</td>\n",
       "      <td>Action</td>\n",
       "      <td>2022-01-01</td>\n",
       "    </tr>\n",
       "    <tr>\n",
       "      <th>9257</th>\n",
       "      <td>Return of Chucky</td>\n",
       "      <td>NaN</td>\n",
       "      <td>2021-12-31</td>\n",
       "    </tr>\n",
       "    <tr>\n",
       "      <th>9241</th>\n",
       "      <td>Karem, La Posesión</td>\n",
       "      <td>NaN</td>\n",
       "      <td>2021-12-31</td>\n",
       "    </tr>\n",
       "    <tr>\n",
       "      <th>9866</th>\n",
       "      <td>Gabriel's Rapture: Part One</td>\n",
       "      <td>Romance</td>\n",
       "      <td>2021-12-31</td>\n",
       "    </tr>\n",
       "    <tr>\n",
       "      <th>9683</th>\n",
       "      <td>Hilda and the Mountain King</td>\n",
       "      <td>Animation</td>\n",
       "      <td>2021-12-30</td>\n",
       "    </tr>\n",
       "    <tr>\n",
       "      <th>9877</th>\n",
       "      <td>The Kindred</td>\n",
       "      <td>Horror</td>\n",
       "      <td>2021-12-28</td>\n",
       "    </tr>\n",
       "    <tr>\n",
       "      <th>9988</th>\n",
       "      <td>Death to 2021</td>\n",
       "      <td>Comedy</td>\n",
       "      <td>2021-12-27</td>\n",
       "    </tr>\n",
       "    <tr>\n",
       "      <th>9346</th>\n",
       "      <td>Lulli</td>\n",
       "      <td>Comedy</td>\n",
       "      <td>2021-12-26</td>\n",
       "    </tr>\n",
       "    <tr>\n",
       "      <th>9253</th>\n",
       "      <td>American Underdog</td>\n",
       "      <td>Drama</td>\n",
       "      <td>2021-12-25</td>\n",
       "    </tr>\n",
       "    <tr>\n",
       "      <th>9996</th>\n",
       "      <td>El Paseo 6</td>\n",
       "      <td>Comedy</td>\n",
       "      <td>2021-12-25</td>\n",
       "    </tr>\n",
       "    <tr>\n",
       "      <th>9479</th>\n",
       "      <td>The ExorSIS</td>\n",
       "      <td>Comedy</td>\n",
       "      <td>2021-12-25</td>\n",
       "    </tr>\n",
       "    <tr>\n",
       "      <th>9560</th>\n",
       "      <td>The Lost Girls</td>\n",
       "      <td>Drama</td>\n",
       "      <td>2021-12-25</td>\n",
       "    </tr>\n",
       "    <tr>\n",
       "      <th>9170</th>\n",
       "      <td>Minnal Murali</td>\n",
       "      <td>Action</td>\n",
       "      <td>2021-12-24</td>\n",
       "    </tr>\n",
       "    <tr>\n",
       "      <th>9872</th>\n",
       "      <td>1000 Miles From Christmas</td>\n",
       "      <td>Comedy</td>\n",
       "      <td>2021-12-24</td>\n",
       "    </tr>\n",
       "  </tbody>\n",
       "</table>\n",
       "</div>"
      ],
      "text/plain": [
       "                                                  title   firstGenre  \\\n",
       "9516                            A Shot Through the Wall        Drama   \n",
       "9545                                            Presque       Comedy   \n",
       "9197                                    Italian Studies        Drama   \n",
       "9808                                         See for Me     Thriller   \n",
       "9586                                     American Siege       Action   \n",
       "9982  Harry Potter 20th Anniversary: Return to Hogwarts  Documentary   \n",
       "9951                                     WWE Day 1 2022       Action   \n",
       "9257                                   Return of Chucky          NaN   \n",
       "9241                                 Karem, La Posesión          NaN   \n",
       "9866                        Gabriel's Rapture: Part One      Romance   \n",
       "9683                        Hilda and the Mountain King    Animation   \n",
       "9877                                        The Kindred       Horror   \n",
       "9988                                      Death to 2021       Comedy   \n",
       "9346                                              Lulli       Comedy   \n",
       "9253                                  American Underdog        Drama   \n",
       "9996                                         El Paseo 6       Comedy   \n",
       "9479                                        The ExorSIS       Comedy   \n",
       "9560                                     The Lost Girls        Drama   \n",
       "9170                                      Minnal Murali       Action   \n",
       "9872                          1000 Miles From Christmas       Comedy   \n",
       "\n",
       "     releaseDate  \n",
       "9516  2022-01-21  \n",
       "9545  2022-01-19  \n",
       "9197  2022-01-14  \n",
       "9808  2022-01-07  \n",
       "9586  2022-01-07  \n",
       "9982  2022-01-01  \n",
       "9951  2022-01-01  \n",
       "9257  2021-12-31  \n",
       "9241  2021-12-31  \n",
       "9866  2021-12-31  \n",
       "9683  2021-12-30  \n",
       "9877  2021-12-28  \n",
       "9988  2021-12-27  \n",
       "9346  2021-12-26  \n",
       "9253  2021-12-25  \n",
       "9996  2021-12-25  \n",
       "9479  2021-12-25  \n",
       "9560  2021-12-25  \n",
       "9170  2021-12-24  \n",
       "9872  2021-12-24  "
      ]
     },
     "execution_count": 181,
     "metadata": {},
     "output_type": "execute_result"
    }
   ],
   "source": [
    "top20 = movies.sort_values('releaseDate', ascending=False)[['title', 'firstGenre', 'releaseDate']].head(20)\n",
    "top20"
   ]
  },
  {
   "cell_type": "code",
   "execution_count": 182,
   "metadata": {},
   "outputs": [
    {
     "data": {
      "text/plain": [
       "Comedy         6\n",
       "Drama          4\n",
       "Action         3\n",
       "Thriller       1\n",
       "Documentary    1\n",
       "Romance        1\n",
       "Animation      1\n",
       "Horror         1\n",
       "Name: firstGenre, dtype: int64"
      ]
     },
     "execution_count": 182,
     "metadata": {},
     "output_type": "execute_result"
    }
   ],
   "source": [
    "dataGenre = pd.value_counts(top20.firstGenre)\n",
    "dataGenre"
   ]
  },
  {
   "cell_type": "code",
   "execution_count": 183,
   "metadata": {},
   "outputs": [
    {
     "data": {
      "image/png": "[encoded data removed]",
      "text/plain": [
       "<Figure size 720x720 with 1 Axes>"
      ]
     },
     "metadata": {
      "needs_background": "light"
     },
     "output_type": "display_data"
    }
   ],
   "source": [
    "eje_x = np.array(dataGenre.keys())\n",
    "eje_y = dataGenre\n",
    " \n",
    "\n",
    "plt.bar(eje_x, eje_y)\n",
    "plt.ylabel('Frecuencia')\n",
    "plt.xlabel('Tipo de Genero')\n",
    "plt.title('Grafico de la frecuencia de generos de las 20 peliculas mas recientes')\n",
    "plt.show()"
   ]
  },
  {
   "cell_type": "code",
   "execution_count": 184,
   "metadata": {},
   "outputs": [],
   "source": [
    "movies['firstGenre'] = movies['genres'].str.split('|', n=-1).str[0]"
   ]
  },
  {
   "cell_type": "markdown",
   "metadata": {},
   "source": []
  },
  {
   "cell_type": "code",
   "execution_count": 185,
   "metadata": {},
   "outputs": [
    {
     "data": {
      "text/html": [
       "<div>\n",
       "<style scoped>\n",
       "    .dataframe tbody tr th:only-of-type {\n",
       "        vertical-align: middle;\n",
       "    }\n",
       "\n",
       "    .dataframe tbody tr th {\n",
       "        vertical-align: top;\n",
       "    }\n",
       "\n",
       "    .dataframe thead th {\n",
       "        text-align: right;\n",
       "    }\n",
       "</style>\n",
       "<table border=\"1\" class=\"dataframe\">\n",
       "  <thead>\n",
       "    <tr style=\"text-align: right;\">\n",
       "      <th></th>\n",
       "      <th>title</th>\n",
       "      <th>firstGenre</th>\n",
       "      <th>releaseDate</th>\n",
       "    </tr>\n",
       "  </thead>\n",
       "  <tbody>\n",
       "    <tr>\n",
       "      <th>9516</th>\n",
       "      <td>A Shot Through the Wall</td>\n",
       "      <td>Drama</td>\n",
       "      <td>2022-01-21</td>\n",
       "    </tr>\n",
       "    <tr>\n",
       "      <th>9545</th>\n",
       "      <td>Presque</td>\n",
       "      <td>Comedy</td>\n",
       "      <td>2022-01-19</td>\n",
       "    </tr>\n",
       "    <tr>\n",
       "      <th>9197</th>\n",
       "      <td>Italian Studies</td>\n",
       "      <td>Drama</td>\n",
       "      <td>2022-01-14</td>\n",
       "    </tr>\n",
       "    <tr>\n",
       "      <th>9808</th>\n",
       "      <td>See for Me</td>\n",
       "      <td>Thriller</td>\n",
       "      <td>2022-01-07</td>\n",
       "    </tr>\n",
       "    <tr>\n",
       "      <th>9586</th>\n",
       "      <td>American Siege</td>\n",
       "      <td>Action</td>\n",
       "      <td>2022-01-07</td>\n",
       "    </tr>\n",
       "    <tr>\n",
       "      <th>...</th>\n",
       "      <td>...</td>\n",
       "      <td>...</td>\n",
       "      <td>...</td>\n",
       "    </tr>\n",
       "    <tr>\n",
       "      <th>526</th>\n",
       "      <td>The Gold Rush</td>\n",
       "      <td>Adventure</td>\n",
       "      <td>1925-07-12</td>\n",
       "    </tr>\n",
       "    <tr>\n",
       "      <th>355</th>\n",
       "      <td>Nosferatu</td>\n",
       "      <td>Drama</td>\n",
       "      <td>1922-02-17</td>\n",
       "    </tr>\n",
       "    <tr>\n",
       "      <th>1800</th>\n",
       "      <td>The Kid</td>\n",
       "      <td>Comedy</td>\n",
       "      <td>1921-01-21</td>\n",
       "    </tr>\n",
       "    <tr>\n",
       "      <th>133</th>\n",
       "      <td>The Cabinet of Dr. Caligari</td>\n",
       "      <td>Drama</td>\n",
       "      <td>1920-02-27</td>\n",
       "    </tr>\n",
       "    <tr>\n",
       "      <th>417</th>\n",
       "      <td>A Trip to the Moon</td>\n",
       "      <td>Adventure</td>\n",
       "      <td>1902-04-17</td>\n",
       "    </tr>\n",
       "  </tbody>\n",
       "</table>\n",
       "<p>10000 rows × 3 columns</p>\n",
       "</div>"
      ],
      "text/plain": [
       "                            title firstGenre releaseDate\n",
       "9516      A Shot Through the Wall      Drama  2022-01-21\n",
       "9545                      Presque     Comedy  2022-01-19\n",
       "9197              Italian Studies      Drama  2022-01-14\n",
       "9808                   See for Me   Thriller  2022-01-07\n",
       "9586               American Siege     Action  2022-01-07\n",
       "...                           ...        ...         ...\n",
       "526                 The Gold Rush  Adventure  1925-07-12\n",
       "355                     Nosferatu      Drama  1922-02-17\n",
       "1800                      The Kid     Comedy  1921-01-21\n",
       "133   The Cabinet of Dr. Caligari      Drama  1920-02-27\n",
       "417            A Trip to the Moon  Adventure  1902-04-17\n",
       "\n",
       "[10000 rows x 3 columns]"
      ]
     },
     "execution_count": 185,
     "metadata": {},
     "output_type": "execute_result"
    }
   ],
   "source": [
    "allFirstGenre = movies.sort_values('releaseDate', ascending=False)[['title', 'firstGenre', 'releaseDate']]\n",
    "dataFirstGenre = pd.value_counts(allFirstGenre.firstGenre)\n",
    "allFirstGenre"
   ]
  },
  {
   "cell_type": "code",
   "execution_count": 186,
   "metadata": {},
   "outputs": [
    {
     "data": {
      "image/png": "[encoded data removed]",
      "text/plain": [
       "<Figure size 1440x1440 with 1 Axes>"
      ]
     },
     "metadata": {
      "needs_background": "light"
     },
     "output_type": "display_data"
    }
   ],
   "source": [
    "eje_x = np.array(dataFirstGenre.keys())\n",
    "eje_y = dataFirstGenre\n",
    " \n",
    "plt.rcParams['figure.figsize'] = (20, 20)\n",
    "plt.bar(eje_x, eje_y)\n",
    "plt.ylabel('Frecuencia')\n",
    "plt.xlabel('Tipo de Genero')\n",
    "plt.title('Grafico de la frecuencia de generos de las peliculas')\n",
    "plt.show()"
   ]
  },
  {
   "cell_type": "markdown",
   "metadata": {},
   "source": [
    "### 4.7 (8 puntos) ¿Las películas de qué genero principal obtuvieron mayores ganancias?\n",
    "\n",
    "- La pelicula que tuvo mejores gancias fue Avatar de genero **accion**\n",
    "- Lo cual cuadra debido a que entre las 30 peliculas con mejores ganancias el genero que predomina el el de **accion** seguido de **aventura**"
   ]
  },
  {
   "cell_type": "code",
   "execution_count": 187,
   "metadata": {},
   "outputs": [
    {
     "data": {
      "text/html": [
       "<div>\n",
       "<style scoped>\n",
       "    .dataframe tbody tr th:only-of-type {\n",
       "        vertical-align: middle;\n",
       "    }\n",
       "\n",
       "    .dataframe tbody tr th {\n",
       "        vertical-align: top;\n",
       "    }\n",
       "\n",
       "    .dataframe thead th {\n",
       "        text-align: right;\n",
       "    }\n",
       "</style>\n",
       "<table border=\"1\" class=\"dataframe\">\n",
       "  <thead>\n",
       "    <tr style=\"text-align: right;\">\n",
       "      <th></th>\n",
       "      <th>title</th>\n",
       "      <th>firstGenre</th>\n",
       "      <th>revenue</th>\n",
       "    </tr>\n",
       "  </thead>\n",
       "  <tbody>\n",
       "    <tr>\n",
       "      <th>3210</th>\n",
       "      <td>Avatar</td>\n",
       "      <td>Action</td>\n",
       "      <td>2.847246e+09</td>\n",
       "    </tr>\n",
       "    <tr>\n",
       "      <th>5952</th>\n",
       "      <td>Avengers: Endgame</td>\n",
       "      <td>Adventure</td>\n",
       "      <td>2.797801e+09</td>\n",
       "    </tr>\n",
       "    <tr>\n",
       "      <th>307</th>\n",
       "      <td>Titanic</td>\n",
       "      <td>Drama</td>\n",
       "      <td>2.187464e+09</td>\n",
       "    </tr>\n",
       "    <tr>\n",
       "      <th>4947</th>\n",
       "      <td>Star Wars: The Force Awakens</td>\n",
       "      <td>Action</td>\n",
       "      <td>2.068224e+09</td>\n",
       "    </tr>\n",
       "    <tr>\n",
       "      <th>5953</th>\n",
       "      <td>Avengers: Infinity War</td>\n",
       "      <td>Adventure</td>\n",
       "      <td>2.046240e+09</td>\n",
       "    </tr>\n",
       "    <tr>\n",
       "      <th>4914</th>\n",
       "      <td>Jurassic World</td>\n",
       "      <td>Action</td>\n",
       "      <td>1.671713e+09</td>\n",
       "    </tr>\n",
       "    <tr>\n",
       "      <th>7134</th>\n",
       "      <td>The Lion King</td>\n",
       "      <td>Adventure</td>\n",
       "      <td>1.667635e+09</td>\n",
       "    </tr>\n",
       "    <tr>\n",
       "      <th>9049</th>\n",
       "      <td>Spider-Man: No Way Home</td>\n",
       "      <td>Action</td>\n",
       "      <td>1.631853e+09</td>\n",
       "    </tr>\n",
       "    <tr>\n",
       "      <th>3397</th>\n",
       "      <td>The Avengers</td>\n",
       "      <td>Science Fiction</td>\n",
       "      <td>1.518816e+09</td>\n",
       "    </tr>\n",
       "    <tr>\n",
       "      <th>5087</th>\n",
       "      <td>Furious 7</td>\n",
       "      <td>Action</td>\n",
       "      <td>1.515048e+09</td>\n",
       "    </tr>\n",
       "    <tr>\n",
       "      <th>6180</th>\n",
       "      <td>Frozen II</td>\n",
       "      <td>Family</td>\n",
       "      <td>1.450027e+09</td>\n",
       "    </tr>\n",
       "    <tr>\n",
       "      <th>4710</th>\n",
       "      <td>Avengers: Age of Ultron</td>\n",
       "      <td>Action</td>\n",
       "      <td>1.405404e+09</td>\n",
       "    </tr>\n",
       "    <tr>\n",
       "      <th>5798</th>\n",
       "      <td>Black Panther</td>\n",
       "      <td>Action</td>\n",
       "      <td>1.346739e+09</td>\n",
       "    </tr>\n",
       "    <tr>\n",
       "      <th>2509</th>\n",
       "      <td>Harry Potter and the Deathly Hallows: Part 2</td>\n",
       "      <td>Fantasy</td>\n",
       "      <td>1.341511e+09</td>\n",
       "    </tr>\n",
       "    <tr>\n",
       "      <th>5148</th>\n",
       "      <td>Star Wars: The Last Jedi</td>\n",
       "      <td>Science Fiction</td>\n",
       "      <td>1.332699e+09</td>\n",
       "    </tr>\n",
       "    <tr>\n",
       "      <th>6428</th>\n",
       "      <td>Jurassic World: Fallen Kingdom</td>\n",
       "      <td>Action</td>\n",
       "      <td>1.303460e+09</td>\n",
       "    </tr>\n",
       "    <tr>\n",
       "      <th>4765</th>\n",
       "      <td>Frozen</td>\n",
       "      <td>Animation</td>\n",
       "      <td>1.274219e+09</td>\n",
       "    </tr>\n",
       "    <tr>\n",
       "      <th>6108</th>\n",
       "      <td>Beauty and the Beast</td>\n",
       "      <td>Family</td>\n",
       "      <td>1.263521e+09</td>\n",
       "    </tr>\n",
       "    <tr>\n",
       "      <th>5625</th>\n",
       "      <td>Incredibles 2</td>\n",
       "      <td>Action</td>\n",
       "      <td>1.242805e+09</td>\n",
       "    </tr>\n",
       "    <tr>\n",
       "      <th>6271</th>\n",
       "      <td>The Fate of the Furious</td>\n",
       "      <td>Action</td>\n",
       "      <td>1.238765e+09</td>\n",
       "    </tr>\n",
       "    <tr>\n",
       "      <th>4338</th>\n",
       "      <td>Iron Man 3</td>\n",
       "      <td>Action</td>\n",
       "      <td>1.214811e+09</td>\n",
       "    </tr>\n",
       "    <tr>\n",
       "      <th>5301</th>\n",
       "      <td>Minions</td>\n",
       "      <td>Family</td>\n",
       "      <td>1.156731e+09</td>\n",
       "    </tr>\n",
       "    <tr>\n",
       "      <th>5701</th>\n",
       "      <td>Captain America: Civil War</td>\n",
       "      <td>Adventure</td>\n",
       "      <td>1.153296e+09</td>\n",
       "    </tr>\n",
       "    <tr>\n",
       "      <th>5939</th>\n",
       "      <td>Aquaman</td>\n",
       "      <td>Action</td>\n",
       "      <td>1.148462e+09</td>\n",
       "    </tr>\n",
       "    <tr>\n",
       "      <th>7239</th>\n",
       "      <td>Spider-Man: Far From Home</td>\n",
       "      <td>Action</td>\n",
       "      <td>1.131928e+09</td>\n",
       "    </tr>\n",
       "    <tr>\n",
       "      <th>5954</th>\n",
       "      <td>Captain Marvel</td>\n",
       "      <td>Action</td>\n",
       "      <td>1.128276e+09</td>\n",
       "    </tr>\n",
       "    <tr>\n",
       "      <th>3771</th>\n",
       "      <td>Transformers: Dark of the Moon</td>\n",
       "      <td>Action</td>\n",
       "      <td>1.123794e+09</td>\n",
       "    </tr>\n",
       "    <tr>\n",
       "      <th>68</th>\n",
       "      <td>The Lord of the Rings: The Return of the King</td>\n",
       "      <td>Adventure</td>\n",
       "      <td>1.118889e+09</td>\n",
       "    </tr>\n",
       "    <tr>\n",
       "      <th>3735</th>\n",
       "      <td>Skyfall</td>\n",
       "      <td>Action</td>\n",
       "      <td>1.108561e+09</td>\n",
       "    </tr>\n",
       "    <tr>\n",
       "      <th>4665</th>\n",
       "      <td>Transformers: Age of Extinction</td>\n",
       "      <td>Science Fiction</td>\n",
       "      <td>1.104000e+09</td>\n",
       "    </tr>\n",
       "  </tbody>\n",
       "</table>\n",
       "</div>"
      ],
      "text/plain": [
       "                                              title       firstGenre  \\\n",
       "3210                                         Avatar           Action   \n",
       "5952                              Avengers: Endgame        Adventure   \n",
       "307                                         Titanic            Drama   \n",
       "4947                   Star Wars: The Force Awakens           Action   \n",
       "5953                         Avengers: Infinity War        Adventure   \n",
       "4914                                 Jurassic World           Action   \n",
       "7134                                  The Lion King        Adventure   \n",
       "9049                        Spider-Man: No Way Home           Action   \n",
       "3397                                   The Avengers  Science Fiction   \n",
       "5087                                      Furious 7           Action   \n",
       "6180                                      Frozen II           Family   \n",
       "4710                        Avengers: Age of Ultron           Action   \n",
       "5798                                  Black Panther           Action   \n",
       "2509   Harry Potter and the Deathly Hallows: Part 2          Fantasy   \n",
       "5148                       Star Wars: The Last Jedi  Science Fiction   \n",
       "6428                 Jurassic World: Fallen Kingdom           Action   \n",
       "4765                                         Frozen        Animation   \n",
       "6108                           Beauty and the Beast           Family   \n",
       "5625                                  Incredibles 2           Action   \n",
       "6271                        The Fate of the Furious           Action   \n",
       "4338                                     Iron Man 3           Action   \n",
       "5301                                        Minions           Family   \n",
       "5701                     Captain America: Civil War        Adventure   \n",
       "5939                                        Aquaman           Action   \n",
       "7239                      Spider-Man: Far From Home           Action   \n",
       "5954                                 Captain Marvel           Action   \n",
       "3771                 Transformers: Dark of the Moon           Action   \n",
       "68    The Lord of the Rings: The Return of the King        Adventure   \n",
       "3735                                        Skyfall           Action   \n",
       "4665                Transformers: Age of Extinction  Science Fiction   \n",
       "\n",
       "           revenue  \n",
       "3210  2.847246e+09  \n",
       "5952  2.797801e+09  \n",
       "307   2.187464e+09  \n",
       "4947  2.068224e+09  \n",
       "5953  2.046240e+09  \n",
       "4914  1.671713e+09  \n",
       "7134  1.667635e+09  \n",
       "9049  1.631853e+09  \n",
       "3397  1.518816e+09  \n",
       "5087  1.515048e+09  \n",
       "6180  1.450027e+09  \n",
       "4710  1.405404e+09  \n",
       "5798  1.346739e+09  \n",
       "2509  1.341511e+09  \n",
       "5148  1.332699e+09  \n",
       "6428  1.303460e+09  \n",
       "4765  1.274219e+09  \n",
       "6108  1.263521e+09  \n",
       "5625  1.242805e+09  \n",
       "6271  1.238765e+09  \n",
       "4338  1.214811e+09  \n",
       "5301  1.156731e+09  \n",
       "5701  1.153296e+09  \n",
       "5939  1.148462e+09  \n",
       "7239  1.131928e+09  \n",
       "5954  1.128276e+09  \n",
       "3771  1.123794e+09  \n",
       "68    1.118889e+09  \n",
       "3735  1.108561e+09  \n",
       "4665  1.104000e+09  "
      ]
     },
     "execution_count": 187,
     "metadata": {},
     "output_type": "execute_result"
    }
   ],
   "source": [
    "moreRevenue = movies.sort_values('revenue', ascending=False)[['title', 'firstGenre', 'revenue']].head(30)\n",
    "moreRevenue"
   ]
  },
  {
   "cell_type": "code",
   "execution_count": 188,
   "metadata": {},
   "outputs": [
    {
     "data": {
      "text/plain": [
       "Action             16\n",
       "Adventure           5\n",
       "Science Fiction     3\n",
       "Family              3\n",
       "Drama               1\n",
       "Fantasy             1\n",
       "Animation           1\n",
       "Name: firstGenre, dtype: int64"
      ]
     },
     "execution_count": 188,
     "metadata": {},
     "output_type": "execute_result"
    }
   ],
   "source": [
    "moreRevenue.firstGenre.value_counts()"
   ]
  },
  {
   "cell_type": "markdown",
   "metadata": {},
   "source": [
    "### 4.8.  (3 puntos) ¿La cantidad de actores influye en los ingresos de las películas?¿se han hecho películas con más actores en los últimos años?\n",
    "\n",
    "- La cantidad de actores **no** influye en los ingresos de la pelicula. Esto se puede determinar debido a que al ordenar la tabla en base al revenue y mostar los datos de cantidad de artistas se ven muchas diferencias  se puede obsevar que no van en aumento o se mantienen en un numero gande.\n",
    "- Para la segunda pregunta se puede decir que **no** aun que los ultimos 3 años sin contar 2022 si han tenido un aumento en la cantidad de actores, los años anteriores no siguen el mismo patron. Años anteriores a 2018, han tenido mas actores sin embargo en esos años tambien se sacaron mas peliculas."
   ]
  },
  {
   "cell_type": "code",
   "execution_count": 189,
   "metadata": {},
   "outputs": [
    {
     "data": {
      "text/html": [
       "<div>\n",
       "<style scoped>\n",
       "    .dataframe tbody tr th:only-of-type {\n",
       "        vertical-align: middle;\n",
       "    }\n",
       "\n",
       "    .dataframe tbody tr th {\n",
       "        vertical-align: top;\n",
       "    }\n",
       "\n",
       "    .dataframe thead th {\n",
       "        text-align: right;\n",
       "    }\n",
       "</style>\n",
       "<table border=\"1\" class=\"dataframe\">\n",
       "  <thead>\n",
       "    <tr style=\"text-align: right;\">\n",
       "      <th></th>\n",
       "      <th>actorsAmount</th>\n",
       "      <th>revenue</th>\n",
       "    </tr>\n",
       "  </thead>\n",
       "  <tbody>\n",
       "    <tr>\n",
       "      <th>3210</th>\n",
       "      <td>37</td>\n",
       "      <td>2.847246e+09</td>\n",
       "    </tr>\n",
       "    <tr>\n",
       "      <th>5952</th>\n",
       "      <td>103</td>\n",
       "      <td>2.797801e+09</td>\n",
       "    </tr>\n",
       "    <tr>\n",
       "      <th>307</th>\n",
       "      <td>116</td>\n",
       "      <td>2.187464e+09</td>\n",
       "    </tr>\n",
       "    <tr>\n",
       "      <th>4947</th>\n",
       "      <td>188</td>\n",
       "      <td>2.068224e+09</td>\n",
       "    </tr>\n",
       "    <tr>\n",
       "      <th>5953</th>\n",
       "      <td>65</td>\n",
       "      <td>2.046240e+09</td>\n",
       "    </tr>\n",
       "    <tr>\n",
       "      <th>4914</th>\n",
       "      <td>48</td>\n",
       "      <td>1.671713e+09</td>\n",
       "    </tr>\n",
       "    <tr>\n",
       "      <th>7134</th>\n",
       "      <td>20</td>\n",
       "      <td>1.667635e+09</td>\n",
       "    </tr>\n",
       "    <tr>\n",
       "      <th>9049</th>\n",
       "      <td>59</td>\n",
       "      <td>1.631853e+09</td>\n",
       "    </tr>\n",
       "    <tr>\n",
       "      <th>3397</th>\n",
       "      <td>113</td>\n",
       "      <td>1.518816e+09</td>\n",
       "    </tr>\n",
       "    <tr>\n",
       "      <th>5087</th>\n",
       "      <td>57</td>\n",
       "      <td>1.515048e+09</td>\n",
       "    </tr>\n",
       "    <tr>\n",
       "      <th>6180</th>\n",
       "      <td>64</td>\n",
       "      <td>1.450027e+09</td>\n",
       "    </tr>\n",
       "    <tr>\n",
       "      <th>4710</th>\n",
       "      <td>72</td>\n",
       "      <td>1.405404e+09</td>\n",
       "    </tr>\n",
       "    <tr>\n",
       "      <th>5798</th>\n",
       "      <td>77</td>\n",
       "      <td>1.346739e+09</td>\n",
       "    </tr>\n",
       "    <tr>\n",
       "      <th>2509</th>\n",
       "      <td>100</td>\n",
       "      <td>1.341511e+09</td>\n",
       "    </tr>\n",
       "    <tr>\n",
       "      <th>5148</th>\n",
       "      <td>112</td>\n",
       "      <td>1.332699e+09</td>\n",
       "    </tr>\n",
       "    <tr>\n",
       "      <th>6428</th>\n",
       "      <td>41</td>\n",
       "      <td>1.303460e+09</td>\n",
       "    </tr>\n",
       "    <tr>\n",
       "      <th>4765</th>\n",
       "      <td>61</td>\n",
       "      <td>1.274219e+09</td>\n",
       "    </tr>\n",
       "    <tr>\n",
       "      <th>6108</th>\n",
       "      <td>135</td>\n",
       "      <td>1.263521e+09</td>\n",
       "    </tr>\n",
       "    <tr>\n",
       "      <th>5625</th>\n",
       "      <td>24</td>\n",
       "      <td>1.242805e+09</td>\n",
       "    </tr>\n",
       "    <tr>\n",
       "      <th>6271</th>\n",
       "      <td>85</td>\n",
       "      <td>1.238765e+09</td>\n",
       "    </tr>\n",
       "  </tbody>\n",
       "</table>\n",
       "</div>"
      ],
      "text/plain": [
       "      actorsAmount       revenue\n",
       "3210            37  2.847246e+09\n",
       "5952           103  2.797801e+09\n",
       "307            116  2.187464e+09\n",
       "4947           188  2.068224e+09\n",
       "5953            65  2.046240e+09\n",
       "4914            48  1.671713e+09\n",
       "7134            20  1.667635e+09\n",
       "9049            59  1.631853e+09\n",
       "3397           113  1.518816e+09\n",
       "5087            57  1.515048e+09\n",
       "6180            64  1.450027e+09\n",
       "4710            72  1.405404e+09\n",
       "5798            77  1.346739e+09\n",
       "2509           100  1.341511e+09\n",
       "5148           112  1.332699e+09\n",
       "6428            41  1.303460e+09\n",
       "4765            61  1.274219e+09\n",
       "6108           135  1.263521e+09\n",
       "5625            24  1.242805e+09\n",
       "6271            85  1.238765e+09"
      ]
     },
     "execution_count": 189,
     "metadata": {},
     "output_type": "execute_result"
    }
   ],
   "source": [
    "movies.sort_values('revenue', ascending=False)[['actorsAmount', 'revenue']].head(20)"
   ]
  },
  {
   "cell_type": "markdown",
   "metadata": {},
   "source": [
    "#### codigo pregunta 2"
   ]
  },
  {
   "cell_type": "code",
   "execution_count": 190,
   "metadata": {},
   "outputs": [
    {
     "data": {
      "text/html": [
       "<div>\n",
       "<style scoped>\n",
       "    .dataframe tbody tr th:only-of-type {\n",
       "        vertical-align: middle;\n",
       "    }\n",
       "\n",
       "    .dataframe tbody tr th {\n",
       "        vertical-align: top;\n",
       "    }\n",
       "\n",
       "    .dataframe thead th {\n",
       "        text-align: right;\n",
       "    }\n",
       "</style>\n",
       "<table border=\"1\" class=\"dataframe\">\n",
       "  <thead>\n",
       "    <tr style=\"text-align: right;\">\n",
       "      <th></th>\n",
       "      <th>title</th>\n",
       "      <th>yearRelease</th>\n",
       "      <th>releaseDate</th>\n",
       "      <th>actorsAmount</th>\n",
       "      <th>revenue</th>\n",
       "    </tr>\n",
       "  </thead>\n",
       "  <tbody>\n",
       "    <tr>\n",
       "      <th>9516</th>\n",
       "      <td>A Shot Through the Wall</td>\n",
       "      <td>2022</td>\n",
       "      <td>2022-01-21</td>\n",
       "      <td>3</td>\n",
       "      <td>0.0</td>\n",
       "    </tr>\n",
       "    <tr>\n",
       "      <th>9951</th>\n",
       "      <td>WWE Day 1 2022</td>\n",
       "      <td>2022</td>\n",
       "      <td>2022-01-01</td>\n",
       "      <td>4</td>\n",
       "      <td>0.0</td>\n",
       "    </tr>\n",
       "    <tr>\n",
       "      <th>9197</th>\n",
       "      <td>Italian Studies</td>\n",
       "      <td>2022</td>\n",
       "      <td>2022-01-14</td>\n",
       "      <td>9</td>\n",
       "      <td>0.0</td>\n",
       "    </tr>\n",
       "    <tr>\n",
       "      <th>9586</th>\n",
       "      <td>American Siege</td>\n",
       "      <td>2022</td>\n",
       "      <td>2022-01-07</td>\n",
       "      <td>10</td>\n",
       "      <td>0.0</td>\n",
       "    </tr>\n",
       "    <tr>\n",
       "      <th>9982</th>\n",
       "      <td>Harry Potter 20th Anniversary: Return to Hogwarts</td>\n",
       "      <td>2022</td>\n",
       "      <td>2022-01-01</td>\n",
       "      <td>37</td>\n",
       "      <td>0.0</td>\n",
       "    </tr>\n",
       "    <tr>\n",
       "      <th>9545</th>\n",
       "      <td>Presque</td>\n",
       "      <td>2022</td>\n",
       "      <td>2022-01-19</td>\n",
       "      <td>12</td>\n",
       "      <td>0.0</td>\n",
       "    </tr>\n",
       "    <tr>\n",
       "      <th>9808</th>\n",
       "      <td>See for Me</td>\n",
       "      <td>2022</td>\n",
       "      <td>2022-01-07</td>\n",
       "      <td>10</td>\n",
       "      <td>0.0</td>\n",
       "    </tr>\n",
       "    <tr>\n",
       "      <th>9233</th>\n",
       "      <td>Night Teeth</td>\n",
       "      <td>2021</td>\n",
       "      <td>2021-10-20</td>\n",
       "      <td>29</td>\n",
       "      <td>0.0</td>\n",
       "    </tr>\n",
       "    <tr>\n",
       "      <th>9201</th>\n",
       "      <td>Flag Day</td>\n",
       "      <td>2021</td>\n",
       "      <td>2021-08-20</td>\n",
       "      <td>13</td>\n",
       "      <td>0.0</td>\n",
       "    </tr>\n",
       "    <tr>\n",
       "      <th>9244</th>\n",
       "      <td>Rurouni Kenshin: The Beginning</td>\n",
       "      <td>2021</td>\n",
       "      <td>2021-06-04</td>\n",
       "      <td>20</td>\n",
       "      <td>0.0</td>\n",
       "    </tr>\n",
       "    <tr>\n",
       "      <th>9242</th>\n",
       "      <td>Blue Miracle</td>\n",
       "      <td>2021</td>\n",
       "      <td>2021-05-27</td>\n",
       "      <td>15</td>\n",
       "      <td>0.0</td>\n",
       "    </tr>\n",
       "    <tr>\n",
       "      <th>9241</th>\n",
       "      <td>Karem, La Posesión</td>\n",
       "      <td>2021</td>\n",
       "      <td>2021-12-31</td>\n",
       "      <td>3</td>\n",
       "      <td>0.0</td>\n",
       "    </tr>\n",
       "    <tr>\n",
       "      <th>9240</th>\n",
       "      <td>Ni tuyo, Ni mía</td>\n",
       "      <td>2021</td>\n",
       "      <td>2021-08-19</td>\n",
       "      <td>1</td>\n",
       "      <td>0.0</td>\n",
       "    </tr>\n",
       "    <tr>\n",
       "      <th>9239</th>\n",
       "      <td>Spoiled Brats</td>\n",
       "      <td>2021</td>\n",
       "      <td>2021-09-15</td>\n",
       "      <td>10</td>\n",
       "      <td>0.0</td>\n",
       "    </tr>\n",
       "    <tr>\n",
       "      <th>9237</th>\n",
       "      <td>Prayers for the Stolen</td>\n",
       "      <td>2021</td>\n",
       "      <td>2021-09-16</td>\n",
       "      <td>10</td>\n",
       "      <td>0.0</td>\n",
       "    </tr>\n",
       "    <tr>\n",
       "      <th>9236</th>\n",
       "      <td>Witch Hunt</td>\n",
       "      <td>2021</td>\n",
       "      <td>2021-10-01</td>\n",
       "      <td>35</td>\n",
       "      <td>0.0</td>\n",
       "    </tr>\n",
       "    <tr>\n",
       "      <th>9235</th>\n",
       "      <td>Psycho Goreman</td>\n",
       "      <td>2021</td>\n",
       "      <td>2021-01-22</td>\n",
       "      <td>25</td>\n",
       "      <td>0.0</td>\n",
       "    </tr>\n",
       "    <tr>\n",
       "      <th>9203</th>\n",
       "      <td>Black Box</td>\n",
       "      <td>2021</td>\n",
       "      <td>2021-09-08</td>\n",
       "      <td>13</td>\n",
       "      <td>9458821.0</td>\n",
       "    </tr>\n",
       "    <tr>\n",
       "      <th>9210</th>\n",
       "      <td>Extinct</td>\n",
       "      <td>2021</td>\n",
       "      <td>2021-02-11</td>\n",
       "      <td>27</td>\n",
       "      <td>0.0</td>\n",
       "    </tr>\n",
       "    <tr>\n",
       "      <th>9212</th>\n",
       "      <td>Shiva Baby</td>\n",
       "      <td>2021</td>\n",
       "      <td>2021-04-02</td>\n",
       "      <td>19</td>\n",
       "      <td>31014.0</td>\n",
       "    </tr>\n",
       "    <tr>\n",
       "      <th>9232</th>\n",
       "      <td>Best Sellers</td>\n",
       "      <td>2021</td>\n",
       "      <td>2021-09-17</td>\n",
       "      <td>39</td>\n",
       "      <td>0.0</td>\n",
       "    </tr>\n",
       "    <tr>\n",
       "      <th>9231</th>\n",
       "      <td>There's Something About Mario</td>\n",
       "      <td>2021</td>\n",
       "      <td>2021-06-10</td>\n",
       "      <td>15</td>\n",
       "      <td>0.0</td>\n",
       "    </tr>\n",
       "    <tr>\n",
       "      <th>9245</th>\n",
       "      <td>The Deep House</td>\n",
       "      <td>2021</td>\n",
       "      <td>2021-06-30</td>\n",
       "      <td>8</td>\n",
       "      <td>0.0</td>\n",
       "    </tr>\n",
       "    <tr>\n",
       "      <th>6400</th>\n",
       "      <td>He's All That</td>\n",
       "      <td>2021</td>\n",
       "      <td>2021-08-27</td>\n",
       "      <td>35</td>\n",
       "      <td>0.0</td>\n",
       "    </tr>\n",
       "    <tr>\n",
       "      <th>9227</th>\n",
       "      <td>Birds of Paradise</td>\n",
       "      <td>2021</td>\n",
       "      <td>2021-09-23</td>\n",
       "      <td>13</td>\n",
       "      <td>0.0</td>\n",
       "    </tr>\n",
       "    <tr>\n",
       "      <th>9226</th>\n",
       "      <td>The Intruder</td>\n",
       "      <td>2021</td>\n",
       "      <td>2021-07-30</td>\n",
       "      <td>7</td>\n",
       "      <td>0.0</td>\n",
       "    </tr>\n",
       "    <tr>\n",
       "      <th>9221</th>\n",
       "      <td>Security</td>\n",
       "      <td>2021</td>\n",
       "      <td>2021-06-07</td>\n",
       "      <td>13</td>\n",
       "      <td>0.0</td>\n",
       "    </tr>\n",
       "    <tr>\n",
       "      <th>9220</th>\n",
       "      <td>The Witcher: Nightmare of the Wolf</td>\n",
       "      <td>2021</td>\n",
       "      <td>2021-08-23</td>\n",
       "      <td>28</td>\n",
       "      <td>0.0</td>\n",
       "    </tr>\n",
       "    <tr>\n",
       "      <th>9206</th>\n",
       "      <td>Censor</td>\n",
       "      <td>2021</td>\n",
       "      <td>2021-06-11</td>\n",
       "      <td>45</td>\n",
       "      <td>314785.0</td>\n",
       "    </tr>\n",
       "    <tr>\n",
       "      <th>9214</th>\n",
       "      <td>Silent Night</td>\n",
       "      <td>2021</td>\n",
       "      <td>2021-12-03</td>\n",
       "      <td>15</td>\n",
       "      <td>0.0</td>\n",
       "    </tr>\n",
       "    <tr>\n",
       "      <th>9205</th>\n",
       "      <td>New Gods: Nezha Reborn</td>\n",
       "      <td>2021</td>\n",
       "      <td>2021-02-06</td>\n",
       "      <td>13</td>\n",
       "      <td>0.0</td>\n",
       "    </tr>\n",
       "    <tr>\n",
       "      <th>9999</th>\n",
       "      <td>Row 19</td>\n",
       "      <td>2021</td>\n",
       "      <td>2021-11-11</td>\n",
       "      <td>8</td>\n",
       "      <td>254042.0</td>\n",
       "    </tr>\n",
       "    <tr>\n",
       "      <th>9247</th>\n",
       "      <td>The Map of Tiny Perfect Things</td>\n",
       "      <td>2021</td>\n",
       "      <td>2021-02-12</td>\n",
       "      <td>14</td>\n",
       "      <td>0.0</td>\n",
       "    </tr>\n",
       "    <tr>\n",
       "      <th>9248</th>\n",
       "      <td>Till Death</td>\n",
       "      <td>2021</td>\n",
       "      <td>2021-07-02</td>\n",
       "      <td>9</td>\n",
       "      <td>0.0</td>\n",
       "    </tr>\n",
       "    <tr>\n",
       "      <th>9290</th>\n",
       "      <td>Castle Falls</td>\n",
       "      <td>2021</td>\n",
       "      <td>2021-12-03</td>\n",
       "      <td>14</td>\n",
       "      <td>0.0</td>\n",
       "    </tr>\n",
       "    <tr>\n",
       "      <th>9289</th>\n",
       "      <td>Earwig and the Witch</td>\n",
       "      <td>2021</td>\n",
       "      <td>2021-01-27</td>\n",
       "      <td>5</td>\n",
       "      <td>384659.0</td>\n",
       "    </tr>\n",
       "    <tr>\n",
       "      <th>9288</th>\n",
       "      <td>The Alpinist</td>\n",
       "      <td>2021</td>\n",
       "      <td>2021-09-07</td>\n",
       "      <td>6</td>\n",
       "      <td>1218734.0</td>\n",
       "    </tr>\n",
       "    <tr>\n",
       "      <th>9287</th>\n",
       "      <td>John and the Hole</td>\n",
       "      <td>2021</td>\n",
       "      <td>2021-08-06</td>\n",
       "      <td>11</td>\n",
       "      <td>25386.0</td>\n",
       "    </tr>\n",
       "    <tr>\n",
       "      <th>9285</th>\n",
       "      <td>Scooby-Doo! The Sword and the Scoob</td>\n",
       "      <td>2021</td>\n",
       "      <td>2021-02-22</td>\n",
       "      <td>13</td>\n",
       "      <td>0.0</td>\n",
       "    </tr>\n",
       "    <tr>\n",
       "      <th>9283</th>\n",
       "      <td>Cosmic Sin</td>\n",
       "      <td>2021</td>\n",
       "      <td>2021-03-12</td>\n",
       "      <td>21</td>\n",
       "      <td>0.0</td>\n",
       "    </tr>\n",
       "    <tr>\n",
       "      <th>9281</th>\n",
       "      <td>Maya the Bee: The Golden Orb</td>\n",
       "      <td>2021</td>\n",
       "      <td>2021-01-07</td>\n",
       "      <td>17</td>\n",
       "      <td>0.0</td>\n",
       "    </tr>\n",
       "    <tr>\n",
       "      <th>9277</th>\n",
       "      <td>The Mad Women's Ball</td>\n",
       "      <td>2021</td>\n",
       "      <td>2021-09-12</td>\n",
       "      <td>16</td>\n",
       "      <td>0.0</td>\n",
       "    </tr>\n",
       "    <tr>\n",
       "      <th>9275</th>\n",
       "      <td>We Broke Up</td>\n",
       "      <td>2021</td>\n",
       "      <td>2021-04-23</td>\n",
       "      <td>12</td>\n",
       "      <td>0.0</td>\n",
       "    </tr>\n",
       "    <tr>\n",
       "      <th>9274</th>\n",
       "      <td>The Rescue</td>\n",
       "      <td>2021</td>\n",
       "      <td>2021-10-08</td>\n",
       "      <td>38</td>\n",
       "      <td>946634.0</td>\n",
       "    </tr>\n",
       "    <tr>\n",
       "      <th>9272</th>\n",
       "      <td>El mesero</td>\n",
       "      <td>2021</td>\n",
       "      <td>2021-07-15</td>\n",
       "      <td>4</td>\n",
       "      <td>0.0</td>\n",
       "    </tr>\n",
       "    <tr>\n",
       "      <th>9268</th>\n",
       "      <td>Come Play With Me</td>\n",
       "      <td>2021</td>\n",
       "      <td>2021-02-25</td>\n",
       "      <td>7</td>\n",
       "      <td>1753826.0</td>\n",
       "    </tr>\n",
       "    <tr>\n",
       "      <th>9267</th>\n",
       "      <td>Instructions for Su</td>\n",
       "      <td>2021</td>\n",
       "      <td>2021-04-08</td>\n",
       "      <td>8</td>\n",
       "      <td>0.0</td>\n",
       "    </tr>\n",
       "    <tr>\n",
       "      <th>9266</th>\n",
       "      <td>El amarre</td>\n",
       "      <td>2021</td>\n",
       "      <td>2021-10-21</td>\n",
       "      <td>4</td>\n",
       "      <td>0.0</td>\n",
       "    </tr>\n",
       "    <tr>\n",
       "      <th>9263</th>\n",
       "      <td>PAW Patrol: The Movie</td>\n",
       "      <td>2021</td>\n",
       "      <td>2021-08-09</td>\n",
       "      <td>18</td>\n",
       "      <td>135000000.0</td>\n",
       "    </tr>\n",
       "    <tr>\n",
       "      <th>9262</th>\n",
       "      <td>Shadow in the Cloud</td>\n",
       "      <td>2021</td>\n",
       "      <td>2021-01-01</td>\n",
       "      <td>10</td>\n",
       "      <td>0.0</td>\n",
       "    </tr>\n",
       "  </tbody>\n",
       "</table>\n",
       "</div>"
      ],
      "text/plain": [
       "                                                  title  yearRelease  \\\n",
       "9516                            A Shot Through the Wall         2022   \n",
       "9951                                     WWE Day 1 2022         2022   \n",
       "9197                                    Italian Studies         2022   \n",
       "9586                                     American Siege         2022   \n",
       "9982  Harry Potter 20th Anniversary: Return to Hogwarts         2022   \n",
       "9545                                            Presque         2022   \n",
       "9808                                         See for Me         2022   \n",
       "9233                                        Night Teeth         2021   \n",
       "9201                                           Flag Day         2021   \n",
       "9244                     Rurouni Kenshin: The Beginning         2021   \n",
       "9242                                       Blue Miracle         2021   \n",
       "9241                                 Karem, La Posesión         2021   \n",
       "9240                                    Ni tuyo, Ni mía         2021   \n",
       "9239                                      Spoiled Brats         2021   \n",
       "9237                             Prayers for the Stolen         2021   \n",
       "9236                                         Witch Hunt         2021   \n",
       "9235                                     Psycho Goreman         2021   \n",
       "9203                                          Black Box         2021   \n",
       "9210                                            Extinct         2021   \n",
       "9212                                         Shiva Baby         2021   \n",
       "9232                                       Best Sellers         2021   \n",
       "9231                      There's Something About Mario         2021   \n",
       "9245                                     The Deep House         2021   \n",
       "6400                                      He's All That         2021   \n",
       "9227                                  Birds of Paradise         2021   \n",
       "9226                                       The Intruder         2021   \n",
       "9221                                           Security         2021   \n",
       "9220                 The Witcher: Nightmare of the Wolf         2021   \n",
       "9206                                             Censor         2021   \n",
       "9214                                       Silent Night         2021   \n",
       "9205                             New Gods: Nezha Reborn         2021   \n",
       "9999                                             Row 19         2021   \n",
       "9247                     The Map of Tiny Perfect Things         2021   \n",
       "9248                                         Till Death         2021   \n",
       "9290                                       Castle Falls         2021   \n",
       "9289                               Earwig and the Witch         2021   \n",
       "9288                                       The Alpinist         2021   \n",
       "9287                                  John and the Hole         2021   \n",
       "9285                Scooby-Doo! The Sword and the Scoob         2021   \n",
       "9283                                         Cosmic Sin         2021   \n",
       "9281                       Maya the Bee: The Golden Orb         2021   \n",
       "9277                               The Mad Women's Ball         2021   \n",
       "9275                                        We Broke Up         2021   \n",
       "9274                                         The Rescue         2021   \n",
       "9272                                          El mesero         2021   \n",
       "9268                                  Come Play With Me         2021   \n",
       "9267                                Instructions for Su         2021   \n",
       "9266                                          El amarre         2021   \n",
       "9263                              PAW Patrol: The Movie         2021   \n",
       "9262                                Shadow in the Cloud         2021   \n",
       "\n",
       "     releaseDate  actorsAmount      revenue  \n",
       "9516  2022-01-21             3          0.0  \n",
       "9951  2022-01-01             4          0.0  \n",
       "9197  2022-01-14             9          0.0  \n",
       "9586  2022-01-07            10          0.0  \n",
       "9982  2022-01-01            37          0.0  \n",
       "9545  2022-01-19            12          0.0  \n",
       "9808  2022-01-07            10          0.0  \n",
       "9233  2021-10-20            29          0.0  \n",
       "9201  2021-08-20            13          0.0  \n",
       "9244  2021-06-04            20          0.0  \n",
       "9242  2021-05-27            15          0.0  \n",
       "9241  2021-12-31             3          0.0  \n",
       "9240  2021-08-19             1          0.0  \n",
       "9239  2021-09-15            10          0.0  \n",
       "9237  2021-09-16            10          0.0  \n",
       "9236  2021-10-01            35          0.0  \n",
       "9235  2021-01-22            25          0.0  \n",
       "9203  2021-09-08            13    9458821.0  \n",
       "9210  2021-02-11            27          0.0  \n",
       "9212  2021-04-02            19      31014.0  \n",
       "9232  2021-09-17            39          0.0  \n",
       "9231  2021-06-10            15          0.0  \n",
       "9245  2021-06-30             8          0.0  \n",
       "6400  2021-08-27            35          0.0  \n",
       "9227  2021-09-23            13          0.0  \n",
       "9226  2021-07-30             7          0.0  \n",
       "9221  2021-06-07            13          0.0  \n",
       "9220  2021-08-23            28          0.0  \n",
       "9206  2021-06-11            45     314785.0  \n",
       "9214  2021-12-03            15          0.0  \n",
       "9205  2021-02-06            13          0.0  \n",
       "9999  2021-11-11             8     254042.0  \n",
       "9247  2021-02-12            14          0.0  \n",
       "9248  2021-07-02             9          0.0  \n",
       "9290  2021-12-03            14          0.0  \n",
       "9289  2021-01-27             5     384659.0  \n",
       "9288  2021-09-07             6    1218734.0  \n",
       "9287  2021-08-06            11      25386.0  \n",
       "9285  2021-02-22            13          0.0  \n",
       "9283  2021-03-12            21          0.0  \n",
       "9281  2021-01-07            17          0.0  \n",
       "9277  2021-09-12            16          0.0  \n",
       "9275  2021-04-23            12          0.0  \n",
       "9274  2021-10-08            38     946634.0  \n",
       "9272  2021-07-15             4          0.0  \n",
       "9268  2021-02-25             7    1753826.0  \n",
       "9267  2021-04-08             8          0.0  \n",
       "9266  2021-10-21             4          0.0  \n",
       "9263  2021-08-09            18  135000000.0  \n",
       "9262  2021-01-01            10          0.0  "
      ]
     },
     "execution_count": 190,
     "metadata": {},
     "output_type": "execute_result"
    }
   ],
   "source": [
    "movies['yearRelease'] = pd.to_datetime(movies.releaseDate).dt.year\n",
    "movies.sort_values('yearRelease', ascending=False)[['title', 'yearRelease', 'releaseDate', 'actorsAmount', 'revenue']].head(50)\n"
   ]
  },
  {
   "cell_type": "code",
   "execution_count": 191,
   "metadata": {},
   "outputs": [
    {
     "name": "stdout",
     "output_type": "stream",
     "text": [
      "7\n",
      "85\n"
     ]
    }
   ],
   "source": [
    "year2022 = movies['yearRelease'] == 2022\n",
    "print(movies[year2022].actorsAmount.count())\n",
    "print(movies[year2022].actorsAmount.sum())"
   ]
  },
  {
   "cell_type": "code",
   "execution_count": 192,
   "metadata": {},
   "outputs": [
    {
     "name": "stdout",
     "output_type": "stream",
     "text": [
      "816\n",
      "2601837\n"
     ]
    }
   ],
   "source": [
    "yaer2021 = movies['yearRelease'] == 2021\n",
    "print(movies[yaer2021].actorsAmount.count())\n",
    "print(movies[yaer2021].actorsAmount.sum())"
   ]
  },
  {
   "cell_type": "code",
   "execution_count": 193,
   "metadata": {},
   "outputs": [
    {
     "data": {
      "text/plain": [
       "2021    43\n",
       "2022     7\n",
       "Name: yearRelease, dtype: int64"
      ]
     },
     "execution_count": 193,
     "metadata": {},
     "output_type": "execute_result"
    }
   ],
   "source": [
    "pd.value_counts(movies.sort_values('yearRelease', ascending=False)[['title', 'yearRelease', 'releaseDate', 'actorsAmount']].head(50).yearRelease).head(10)"
   ]
  },
  {
   "cell_type": "code",
   "execution_count": 194,
   "metadata": {},
   "outputs": [
    {
     "data": {
      "text/html": [
       "<div>\n",
       "<style scoped>\n",
       "    .dataframe tbody tr th:only-of-type {\n",
       "        vertical-align: middle;\n",
       "    }\n",
       "\n",
       "    .dataframe tbody tr th {\n",
       "        vertical-align: top;\n",
       "    }\n",
       "\n",
       "    .dataframe thead th {\n",
       "        text-align: right;\n",
       "    }\n",
       "</style>\n",
       "<table border=\"1\" class=\"dataframe\">\n",
       "  <thead>\n",
       "    <tr style=\"text-align: right;\">\n",
       "      <th></th>\n",
       "      <th>id</th>\n",
       "      <th>budget</th>\n",
       "      <th>revenue</th>\n",
       "      <th>runtime</th>\n",
       "      <th>popularity</th>\n",
       "      <th>voteAvg</th>\n",
       "      <th>voteCount</th>\n",
       "      <th>genresAmount</th>\n",
       "      <th>productionCoAmount</th>\n",
       "      <th>productionCountriesAmount</th>\n",
       "      <th>actorsAmount</th>\n",
       "      <th>castWomenAmount</th>\n",
       "      <th>castMenAmount</th>\n",
       "    </tr>\n",
       "    <tr>\n",
       "      <th>yearRelease</th>\n",
       "      <th></th>\n",
       "      <th></th>\n",
       "      <th></th>\n",
       "      <th></th>\n",
       "      <th></th>\n",
       "      <th></th>\n",
       "      <th></th>\n",
       "      <th></th>\n",
       "      <th></th>\n",
       "      <th></th>\n",
       "      <th></th>\n",
       "      <th></th>\n",
       "      <th></th>\n",
       "    </tr>\n",
       "  </thead>\n",
       "  <tbody>\n",
       "    <tr>\n",
       "      <th>2016</th>\n",
       "      <td>198774002</td>\n",
       "      <td>9915684335</td>\n",
       "      <td>3.030646e+10</td>\n",
       "      <td>55076</td>\n",
       "      <td>19009.220</td>\n",
       "      <td>3525.8</td>\n",
       "      <td>783770</td>\n",
       "      <td>1383</td>\n",
       "      <td>1864</td>\n",
       "      <td>1098</td>\n",
       "      <td>2290345</td>\n",
       "      <td>3984</td>\n",
       "      <td>6485</td>\n",
       "    </tr>\n",
       "    <tr>\n",
       "      <th>2017</th>\n",
       "      <td>255113237</td>\n",
       "      <td>9171939874</td>\n",
       "      <td>3.096848e+10</td>\n",
       "      <td>61298</td>\n",
       "      <td>21139.893</td>\n",
       "      <td>3953.1</td>\n",
       "      <td>784731</td>\n",
       "      <td>1584</td>\n",
       "      <td>1970</td>\n",
       "      <td>1080</td>\n",
       "      <td>2220481</td>\n",
       "      <td>4412</td>\n",
       "      <td>7396</td>\n",
       "    </tr>\n",
       "    <tr>\n",
       "      <th>2018</th>\n",
       "      <td>295932065</td>\n",
       "      <td>8139812156</td>\n",
       "      <td>2.880042e+10</td>\n",
       "      <td>63035</td>\n",
       "      <td>20712.604</td>\n",
       "      <td>4040.7</td>\n",
       "      <td>666585</td>\n",
       "      <td>1597</td>\n",
       "      <td>2097</td>\n",
       "      <td>1153</td>\n",
       "      <td>2451055</td>\n",
       "      <td>4268</td>\n",
       "      <td>7052</td>\n",
       "    </tr>\n",
       "    <tr>\n",
       "      <th>2019</th>\n",
       "      <td>327235096</td>\n",
       "      <td>8037517661</td>\n",
       "      <td>2.869693e+10</td>\n",
       "      <td>61358</td>\n",
       "      <td>24540.496</td>\n",
       "      <td>4052.1</td>\n",
       "      <td>593907</td>\n",
       "      <td>1494</td>\n",
       "      <td>2050</td>\n",
       "      <td>1177</td>\n",
       "      <td>1290019</td>\n",
       "      <td>4040</td>\n",
       "      <td>6719</td>\n",
       "    </tr>\n",
       "    <tr>\n",
       "      <th>2020</th>\n",
       "      <td>332546367</td>\n",
       "      <td>3222917037</td>\n",
       "      <td>4.811586e+09</td>\n",
       "      <td>51395</td>\n",
       "      <td>28726.332</td>\n",
       "      <td>3536.6</td>\n",
       "      <td>290583</td>\n",
       "      <td>1303</td>\n",
       "      <td>1682</td>\n",
       "      <td>1085</td>\n",
       "      <td>1509624</td>\n",
       "      <td>3173</td>\n",
       "      <td>4792</td>\n",
       "    </tr>\n",
       "    <tr>\n",
       "      <th>2021</th>\n",
       "      <td>587763849</td>\n",
       "      <td>6344934286</td>\n",
       "      <td>1.395780e+10</td>\n",
       "      <td>75956</td>\n",
       "      <td>192928.057</td>\n",
       "      <td>5345.7</td>\n",
       "      <td>293021</td>\n",
       "      <td>1841</td>\n",
       "      <td>2485</td>\n",
       "      <td>1604</td>\n",
       "      <td>2601837</td>\n",
       "      <td>4024</td>\n",
       "      <td>6102</td>\n",
       "    </tr>\n",
       "    <tr>\n",
       "      <th>2022</th>\n",
       "      <td>5542411</td>\n",
       "      <td>0</td>\n",
       "      <td>0.000000e+00</td>\n",
       "      <td>718</td>\n",
       "      <td>1002.915</td>\n",
       "      <td>46.3</td>\n",
       "      <td>912</td>\n",
       "      <td>15</td>\n",
       "      <td>22</td>\n",
       "      <td>45</td>\n",
       "      <td>85</td>\n",
       "      <td>49</td>\n",
       "      <td>46</td>\n",
       "    </tr>\n",
       "  </tbody>\n",
       "</table>\n",
       "</div>"
      ],
      "text/plain": [
       "                    id      budget       revenue  runtime  popularity  \\\n",
       "yearRelease                                                             \n",
       "2016         198774002  9915684335  3.030646e+10    55076   19009.220   \n",
       "2017         255113237  9171939874  3.096848e+10    61298   21139.893   \n",
       "2018         295932065  8139812156  2.880042e+10    63035   20712.604   \n",
       "2019         327235096  8037517661  2.869693e+10    61358   24540.496   \n",
       "2020         332546367  3222917037  4.811586e+09    51395   28726.332   \n",
       "2021         587763849  6344934286  1.395780e+10    75956  192928.057   \n",
       "2022           5542411           0  0.000000e+00      718    1002.915   \n",
       "\n",
       "             voteAvg  voteCount  genresAmount  productionCoAmount  \\\n",
       "yearRelease                                                         \n",
       "2016          3525.8     783770          1383                1864   \n",
       "2017          3953.1     784731          1584                1970   \n",
       "2018          4040.7     666585          1597                2097   \n",
       "2019          4052.1     593907          1494                2050   \n",
       "2020          3536.6     290583          1303                1682   \n",
       "2021          5345.7     293021          1841                2485   \n",
       "2022            46.3        912            15                  22   \n",
       "\n",
       "             productionCountriesAmount  actorsAmount  castWomenAmount  \\\n",
       "yearRelease                                                             \n",
       "2016                              1098       2290345             3984   \n",
       "2017                              1080       2220481             4412   \n",
       "2018                              1153       2451055             4268   \n",
       "2019                              1177       1290019             4040   \n",
       "2020                              1085       1509624             3173   \n",
       "2021                              1604       2601837             4024   \n",
       "2022                                45            85               49   \n",
       "\n",
       "             castMenAmount  \n",
       "yearRelease                 \n",
       "2016                  6485  \n",
       "2017                  7396  \n",
       "2018                  7052  \n",
       "2019                  6719  \n",
       "2020                  4792  \n",
       "2021                  6102  \n",
       "2022                    46  "
      ]
     },
     "execution_count": 194,
     "metadata": {},
     "output_type": "execute_result"
    }
   ],
   "source": [
    "summovies = movies.groupby(by=['yearRelease']).sum().groupby(level=[0]).cumsum()\n",
    "summovies.query('yearRelease > 2015')"
   ]
  },
  {
   "cell_type": "code",
   "execution_count": 195,
   "metadata": {},
   "outputs": [
    {
     "data": {
      "text/html": [
       "<div>\n",
       "<style scoped>\n",
       "    .dataframe tbody tr th:only-of-type {\n",
       "        vertical-align: middle;\n",
       "    }\n",
       "\n",
       "    .dataframe tbody tr th {\n",
       "        vertical-align: top;\n",
       "    }\n",
       "\n",
       "    .dataframe thead th {\n",
       "        text-align: right;\n",
       "    }\n",
       "</style>\n",
       "<table border=\"1\" class=\"dataframe\">\n",
       "  <thead>\n",
       "    <tr style=\"text-align: right;\">\n",
       "      <th></th>\n",
       "      <th>actorsAmount</th>\n",
       "      <th>moviesCount</th>\n",
       "    </tr>\n",
       "    <tr>\n",
       "      <th>yearRelease</th>\n",
       "      <th></th>\n",
       "      <th></th>\n",
       "    </tr>\n",
       "  </thead>\n",
       "  <tbody>\n",
       "    <tr>\n",
       "      <th>2016</th>\n",
       "      <td>2290345</td>\n",
       "      <td>557</td>\n",
       "    </tr>\n",
       "    <tr>\n",
       "      <th>2017</th>\n",
       "      <td>2220481</td>\n",
       "      <td>618</td>\n",
       "    </tr>\n",
       "    <tr>\n",
       "      <th>2018</th>\n",
       "      <td>2451055</td>\n",
       "      <td>629</td>\n",
       "    </tr>\n",
       "    <tr>\n",
       "      <th>2019</th>\n",
       "      <td>1290019</td>\n",
       "      <td>612</td>\n",
       "    </tr>\n",
       "    <tr>\n",
       "      <th>2020</th>\n",
       "      <td>1509624</td>\n",
       "      <td>533</td>\n",
       "    </tr>\n",
       "    <tr>\n",
       "      <th>2021</th>\n",
       "      <td>2601837</td>\n",
       "      <td>816</td>\n",
       "    </tr>\n",
       "    <tr>\n",
       "      <th>2022</th>\n",
       "      <td>85</td>\n",
       "      <td>7</td>\n",
       "    </tr>\n",
       "  </tbody>\n",
       "</table>\n",
       "</div>"
      ],
      "text/plain": [
       "             actorsAmount  moviesCount\n",
       "yearRelease                           \n",
       "2016              2290345          557\n",
       "2017              2220481          618\n",
       "2018              2451055          629\n",
       "2019              1290019          612\n",
       "2020              1509624          533\n",
       "2021              2601837          816\n",
       "2022                   85            7"
      ]
     },
     "execution_count": 195,
     "metadata": {},
     "output_type": "execute_result"
    }
   ],
   "source": [
    "summovies['moviesCount'] = pd.value_counts(movies.yearRelease)\n",
    "summovies.query('yearRelease > 2015')[['actorsAmount', 'moviesCount']]"
   ]
  },
  {
   "cell_type": "code",
   "execution_count": 196,
   "metadata": {},
   "outputs": [
    {
     "data": {
      "text/plain": [
       "Int64Index([2001, 2002, 2003, 2004, 2005, 2006, 2007, 2008, 2009, 2010, 2011,\n",
       "            2012, 2013, 2014, 2015, 2016, 2017, 2018, 2019, 2020, 2021, 2022],\n",
       "           dtype='int64', name='yearRelease')"
      ]
     },
     "execution_count": 196,
     "metadata": {},
     "output_type": "execute_result"
    }
   ],
   "source": [
    "summovies.query('yearRelease > 2000').iloc[:,0].keys()"
   ]
  },
  {
   "cell_type": "code",
   "execution_count": 197,
   "metadata": {},
   "outputs": [
    {
     "data": {
      "text/plain": [
       "array([   5834,  493725,    5628,  694445,    6962, 2268102,    7919,\n",
       "        804616, 1061917,   96648,  458149,  801031,  770668,  947559,\n",
       "        631392, 2290345, 2220481, 2451055, 1290019, 1509624, 2601837,\n",
       "            85])"
      ]
     },
     "execution_count": 197,
     "metadata": {},
     "output_type": "execute_result"
    }
   ],
   "source": [
    "summovies.query('yearRelease > 2000')[['actorsAmount']].actorsAmount.values"
   ]
  },
  {
   "cell_type": "code",
   "execution_count": 198,
   "metadata": {},
   "outputs": [
    {
     "data": {
      "image/png": "[encoded data removed]",
      "text/plain": [
       "<Figure size 1440x1440 with 1 Axes>"
      ]
     },
     "metadata": {
      "needs_background": "light"
     },
     "output_type": "display_data"
    }
   ],
   "source": [
    "eje_x = np.array(summovies.query('yearRelease > 2000').iloc[:,0].keys())\n",
    "eje_y = summovies.query('yearRelease > 2000')[['actorsAmount']].actorsAmount.values\n",
    "\n",
    "plt.bar(eje_x, eje_y)\n",
    "plt.rcParams['figure.figsize'] = (10, 10)\n",
    "plt.ylabel('Frecuencia de la variable release year')\n",
    "plt.xlabel('Años')\n",
    "plt.title('Grafico de barras para la variable release year')\n",
    "plt.show()"
   ]
  },
  {
   "cell_type": "markdown",
   "metadata": {},
   "source": []
  },
  {
   "cell_type": "markdown",
   "metadata": {},
   "source": [
    "### 4.9.  (3 puntos) ¿Es posible que la cantidad de hombres y mujeres en el  reparto influya en  la popularidad y los ingresos de las películas? \n",
    "\n",
    "- En base a la grafica de calor y al diagrama de correlacion se puede determinar que si existe una cierta relacion entre el genero de los actores con la popularidad y los ingresos que tiene la pelicula, siendo esta menor al 0.5 pero si se pudo notar cierto nivel de relacion entre las variables.\n",
    "- Si nos fijamos en las graficas de correlacion podemos observar que usualmente las peliculas con mayores ingresos y mas populares son las que tiene un mayor numero de actores masculinos. (siendo representados los hombre por los numero positivos y las mujeres los numeros negativos debido a la resta)"
   ]
  },
  {
   "cell_type": "code",
   "execution_count": 199,
   "metadata": {},
   "outputs": [
    {
     "data": {
      "text/html": [
       "<div>\n",
       "<style scoped>\n",
       "    .dataframe tbody tr th:only-of-type {\n",
       "        vertical-align: middle;\n",
       "    }\n",
       "\n",
       "    .dataframe tbody tr th {\n",
       "        vertical-align: top;\n",
       "    }\n",
       "\n",
       "    .dataframe thead th {\n",
       "        text-align: right;\n",
       "    }\n",
       "</style>\n",
       "<table border=\"1\" class=\"dataframe\">\n",
       "  <thead>\n",
       "    <tr style=\"text-align: right;\">\n",
       "      <th></th>\n",
       "      <th>castWomenAmount</th>\n",
       "      <th>castMenAmount</th>\n",
       "      <th>popularity</th>\n",
       "    </tr>\n",
       "  </thead>\n",
       "  <tbody>\n",
       "    <tr>\n",
       "      <th>8225</th>\n",
       "      <td>11</td>\n",
       "      <td>25</td>\n",
       "      <td>11474.647</td>\n",
       "    </tr>\n",
       "    <tr>\n",
       "      <th>9049</th>\n",
       "      <td>13</td>\n",
       "      <td>33</td>\n",
       "      <td>8443.740</td>\n",
       "    </tr>\n",
       "    <tr>\n",
       "      <th>7352</th>\n",
       "      <td>8</td>\n",
       "      <td>13</td>\n",
       "      <td>6055.643</td>\n",
       "    </tr>\n",
       "    <tr>\n",
       "      <th>7614</th>\n",
       "      <td>9</td>\n",
       "      <td>10</td>\n",
       "      <td>5887.379</td>\n",
       "    </tr>\n",
       "    <tr>\n",
       "      <th>8556</th>\n",
       "      <td>9</td>\n",
       "      <td>9</td>\n",
       "      <td>5804.441</td>\n",
       "    </tr>\n",
       "    <tr>\n",
       "      <th>7179</th>\n",
       "      <td>12</td>\n",
       "      <td>18</td>\n",
       "      <td>5051.222</td>\n",
       "    </tr>\n",
       "    <tr>\n",
       "      <th>9898</th>\n",
       "      <td>3</td>\n",
       "      <td>2</td>\n",
       "      <td>4789.705</td>\n",
       "    </tr>\n",
       "    <tr>\n",
       "      <th>8995</th>\n",
       "      <td>15</td>\n",
       "      <td>34</td>\n",
       "      <td>3828.374</td>\n",
       "    </tr>\n",
       "    <tr>\n",
       "      <th>8650</th>\n",
       "      <td>11</td>\n",
       "      <td>26</td>\n",
       "      <td>3062.764</td>\n",
       "    </tr>\n",
       "    <tr>\n",
       "      <th>9485</th>\n",
       "      <td>8</td>\n",
       "      <td>12</td>\n",
       "      <td>2466.985</td>\n",
       "    </tr>\n",
       "  </tbody>\n",
       "</table>\n",
       "</div>"
      ],
      "text/plain": [
       "      castWomenAmount  castMenAmount  popularity\n",
       "8225               11             25   11474.647\n",
       "9049               13             33    8443.740\n",
       "7352                8             13    6055.643\n",
       "7614                9             10    5887.379\n",
       "8556                9              9    5804.441\n",
       "7179               12             18    5051.222\n",
       "9898                3              2    4789.705\n",
       "8995               15             34    3828.374\n",
       "8650               11             26    3062.764\n",
       "9485                8             12    2466.985"
      ]
     },
     "execution_count": 199,
     "metadata": {},
     "output_type": "execute_result"
    }
   ],
   "source": [
    "movies.sort_values('popularity', ascending=False)[['castWomenAmount', 'castMenAmount', 'popularity']].head(10)"
   ]
  },
  {
   "cell_type": "code",
   "execution_count": 200,
   "metadata": {},
   "outputs": [
    {
     "name": "stderr",
     "output_type": "stream",
     "text": [
      "/var/folders/q1/c6bggw2x74z5vcrx1tbn_7s00000gn/T/ipykernel_29591/3588629610.py:2: SettingWithCopyWarning: \n",
      "A value is trying to be set on a copy of a slice from a DataFrame.\n",
      "Try using .loc[row_indexer,col_indexer] = value instead\n",
      "\n",
      "See the caveats in the documentation: https://pandas.pydata.org/pandas-docs/stable/user_guide/indexing.html#returning-a-view-versus-a-copy\n",
      "  relacionHM['Diference'] = movies['castMenAmount'] - movies['castWomenAmount']\n"
     ]
    },
    {
     "data": {
      "image/png": "[encoded data removed]",
      "text/plain": [
       "<Figure size 720x720 with 2 Axes>"
      ]
     },
     "metadata": {
      "needs_background": "light"
     },
     "output_type": "display_data"
    },
    {
     "data": {
      "image/png": "[encoded data removed]",
      "text/plain": [
       "<Figure size 720x720 with 1 Axes>"
      ]
     },
     "metadata": {
      "needs_background": "light"
     },
     "output_type": "display_data"
    },
    {
     "data": {
      "image/png": "[encoded data removed]",
      "text/plain": [
       "<Figure size 720x720 with 1 Axes>"
      ]
     },
     "metadata": {
      "needs_background": "light"
     },
     "output_type": "display_data"
    }
   ],
   "source": [
    "relacionHM = movies[['revenue', 'popularity', 'castMenAmount', 'castWomenAmount']]\n",
    "relacionHM['Diference'] = movies['castMenAmount'] - movies['castWomenAmount']\n",
    "hm = sns.heatmap(relacionHM.corr(), annot = True)\n",
    "plt.show()\n",
    "\n",
    "sns.regplot(x=relacionHM['Diference'], y=relacionHM['revenue'])\n",
    "plt.show()\n",
    "\n",
    "sns.regplot(x=relacionHM['Diference'], y=relacionHM['popularity'])\n",
    "plt.show()"
   ]
  },
  {
   "cell_type": "markdown",
   "metadata": {},
   "source": [
    "4.10 (8 puntos) ¿Quiénes son los directores que hicieron las 20 películas mejor \n",
    "calificadas? "
   ]
  },
  {
   "cell_type": "code",
   "execution_count": 201,
   "metadata": {},
   "outputs": [
    {
     "data": {
      "text/html": [
       "<div>\n",
       "<style scoped>\n",
       "    .dataframe tbody tr th:only-of-type {\n",
       "        vertical-align: middle;\n",
       "    }\n",
       "\n",
       "    .dataframe tbody tr th {\n",
       "        vertical-align: top;\n",
       "    }\n",
       "\n",
       "    .dataframe thead th {\n",
       "        text-align: right;\n",
       "    }\n",
       "</style>\n",
       "<table border=\"1\" class=\"dataframe\">\n",
       "  <thead>\n",
       "    <tr style=\"text-align: right;\">\n",
       "      <th></th>\n",
       "      <th>voteAvg</th>\n",
       "      <th>director</th>\n",
       "    </tr>\n",
       "  </thead>\n",
       "  <tbody>\n",
       "    <tr>\n",
       "      <th>0</th>\n",
       "      <td>10.0</td>\n",
       "      <td>Laurent Bouzereau</td>\n",
       "    </tr>\n",
       "    <tr>\n",
       "      <th>1</th>\n",
       "      <td>10.0</td>\n",
       "      <td>Christin Baker</td>\n",
       "    </tr>\n",
       "    <tr>\n",
       "      <th>2</th>\n",
       "      <td>10.0</td>\n",
       "      <td>NaN</td>\n",
       "    </tr>\n",
       "    <tr>\n",
       "      <th>3</th>\n",
       "      <td>10.0</td>\n",
       "      <td>Rebecca Sugar</td>\n",
       "    </tr>\n",
       "    <tr>\n",
       "      <th>4</th>\n",
       "      <td>10.0</td>\n",
       "      <td>Miguel Angel Zavala</td>\n",
       "    </tr>\n",
       "    <tr>\n",
       "      <th>5</th>\n",
       "      <td>10.0</td>\n",
       "      <td>Thomas Coven</td>\n",
       "    </tr>\n",
       "    <tr>\n",
       "      <th>6</th>\n",
       "      <td>10.0</td>\n",
       "      <td>Kaku Arakawa</td>\n",
       "    </tr>\n",
       "    <tr>\n",
       "      <th>7</th>\n",
       "      <td>10.0</td>\n",
       "      <td>Víctor Barba|Juan Olivares</td>\n",
       "    </tr>\n",
       "    <tr>\n",
       "      <th>8</th>\n",
       "      <td>9.8</td>\n",
       "      <td>NaN</td>\n",
       "    </tr>\n",
       "    <tr>\n",
       "      <th>9</th>\n",
       "      <td>9.6</td>\n",
       "      <td>Dave Bullock|Troy Adomitis|Victor Cook</td>\n",
       "    </tr>\n",
       "    <tr>\n",
       "      <th>10</th>\n",
       "      <td>9.5</td>\n",
       "      <td>Won Myeong-jun</td>\n",
       "    </tr>\n",
       "    <tr>\n",
       "      <th>11</th>\n",
       "      <td>9.5</td>\n",
       "      <td>NaN</td>\n",
       "    </tr>\n",
       "    <tr>\n",
       "      <th>12</th>\n",
       "      <td>9.5</td>\n",
       "      <td>NaN</td>\n",
       "    </tr>\n",
       "    <tr>\n",
       "      <th>13</th>\n",
       "      <td>9.5</td>\n",
       "      <td>Samuel Leong</td>\n",
       "    </tr>\n",
       "    <tr>\n",
       "      <th>14</th>\n",
       "      <td>9.4</td>\n",
       "      <td>Selena Quintanilla</td>\n",
       "    </tr>\n",
       "    <tr>\n",
       "      <th>15</th>\n",
       "      <td>9.3</td>\n",
       "      <td>Haruo Sotozaki</td>\n",
       "    </tr>\n",
       "    <tr>\n",
       "      <th>16</th>\n",
       "      <td>9.3</td>\n",
       "      <td>Haruo Sotozaki</td>\n",
       "    </tr>\n",
       "    <tr>\n",
       "      <th>17</th>\n",
       "      <td>9.2</td>\n",
       "      <td>Park Jun-soo</td>\n",
       "    </tr>\n",
       "    <tr>\n",
       "      <th>18</th>\n",
       "      <td>9.2</td>\n",
       "      <td>Ulises Valencia</td>\n",
       "    </tr>\n",
       "    <tr>\n",
       "      <th>19</th>\n",
       "      <td>9.2</td>\n",
       "      <td>Igor Kopylov</td>\n",
       "    </tr>\n",
       "  </tbody>\n",
       "</table>\n",
       "</div>"
      ],
      "text/plain": [
       "    voteAvg                                director\n",
       "0      10.0                       Laurent Bouzereau\n",
       "1      10.0                          Christin Baker\n",
       "2      10.0                                     NaN\n",
       "3      10.0                           Rebecca Sugar\n",
       "4      10.0                     Miguel Angel Zavala\n",
       "5      10.0                            Thomas Coven\n",
       "6      10.0                            Kaku Arakawa\n",
       "7      10.0              Víctor Barba|Juan Olivares\n",
       "8       9.8                                     NaN\n",
       "9       9.6  Dave Bullock|Troy Adomitis|Victor Cook\n",
       "10      9.5                          Won Myeong-jun\n",
       "11      9.5                                     NaN\n",
       "12      9.5                                     NaN\n",
       "13      9.5                            Samuel Leong\n",
       "14      9.4                      Selena Quintanilla\n",
       "15      9.3                          Haruo Sotozaki\n",
       "16      9.3                          Haruo Sotozaki\n",
       "17      9.2                            Park Jun-soo\n",
       "18      9.2                         Ulises Valencia\n",
       "19      9.2                            Igor Kopylov"
      ]
     },
     "execution_count": 201,
     "metadata": {},
     "output_type": "execute_result"
    }
   ],
   "source": [
    "# 4.10\n",
    "q10 = movies.sort_values('voteAvg', ascending=False, ignore_index=True)[['voteAvg', 'director']].head(20)\n",
    "q10"
   ]
  },
  {
   "cell_type": "markdown",
   "metadata": {},
   "source": [
    "4.11 ¿Cómo  se  correlacionan  los  presupuestos  con  los  ingresos?  ¿Los  altos \n",
    "presupuestos significan altos ingresos? Haga los gráficos que necesite, histograma, \n",
    "diagrama de dispersión "
   ]
  },
  {
   "cell_type": "code",
   "execution_count": 202,
   "metadata": {},
   "outputs": [
    {
     "data": {
      "image/png": "[encoded data removed]",
      "text/plain": [
       "<Figure size 720x720 with 1 Axes>"
      ]
     },
     "metadata": {
      "needs_background": "light"
     },
     "output_type": "display_data"
    },
    {
     "data": {
      "image/png": "[encoded data removed]",
      "text/plain": [
       "<Figure size 720x720 with 1 Axes>"
      ]
     },
     "metadata": {
      "needs_background": "light"
     },
     "output_type": "display_data"
    }
   ],
   "source": [
    "# 4.11\n",
    "dataf = movies.nlargest(10, ['budget', 'revenue'])[['title', 'budget', 'revenue']]\n",
    "diagram = dataf.plot.scatter(x='budget', y='revenue', c='DarkBlue')\n",
    "ax = dataf.plot.bar(x='budget', y='revenue', rot=0)"
   ]
  },
  {
   "cell_type": "markdown",
   "metadata": {},
   "source": [
    "4.12 (7 puntos) ¿Se asocian ciertos meses de lanzamiento con mejores ingresos?"
   ]
  },
  {
   "cell_type": "code",
   "execution_count": 203,
   "metadata": {},
   "outputs": [
    {
     "data": {
      "text/html": [
       "<div>\n",
       "<style scoped>\n",
       "    .dataframe tbody tr th:only-of-type {\n",
       "        vertical-align: middle;\n",
       "    }\n",
       "\n",
       "    .dataframe tbody tr th {\n",
       "        vertical-align: top;\n",
       "    }\n",
       "\n",
       "    .dataframe thead th {\n",
       "        text-align: right;\n",
       "    }\n",
       "</style>\n",
       "<table border=\"1\" class=\"dataframe\">\n",
       "  <thead>\n",
       "    <tr style=\"text-align: right;\">\n",
       "      <th></th>\n",
       "      <th>title</th>\n",
       "      <th>revenue</th>\n",
       "      <th>monthRelease</th>\n",
       "    </tr>\n",
       "  </thead>\n",
       "  <tbody>\n",
       "    <tr>\n",
       "      <th>0</th>\n",
       "      <td>Avatar</td>\n",
       "      <td>2.847246e+09</td>\n",
       "      <td>12</td>\n",
       "    </tr>\n",
       "    <tr>\n",
       "      <th>1</th>\n",
       "      <td>Avengers: Endgame</td>\n",
       "      <td>2.797801e+09</td>\n",
       "      <td>4</td>\n",
       "    </tr>\n",
       "    <tr>\n",
       "      <th>2</th>\n",
       "      <td>Titanic</td>\n",
       "      <td>2.187464e+09</td>\n",
       "      <td>11</td>\n",
       "    </tr>\n",
       "    <tr>\n",
       "      <th>3</th>\n",
       "      <td>Star Wars: The Force Awakens</td>\n",
       "      <td>2.068224e+09</td>\n",
       "      <td>12</td>\n",
       "    </tr>\n",
       "    <tr>\n",
       "      <th>4</th>\n",
       "      <td>Avengers: Infinity War</td>\n",
       "      <td>2.046240e+09</td>\n",
       "      <td>4</td>\n",
       "    </tr>\n",
       "    <tr>\n",
       "      <th>5</th>\n",
       "      <td>Jurassic World</td>\n",
       "      <td>1.671713e+09</td>\n",
       "      <td>6</td>\n",
       "    </tr>\n",
       "    <tr>\n",
       "      <th>6</th>\n",
       "      <td>The Lion King</td>\n",
       "      <td>1.667635e+09</td>\n",
       "      <td>7</td>\n",
       "    </tr>\n",
       "    <tr>\n",
       "      <th>7</th>\n",
       "      <td>Spider-Man: No Way Home</td>\n",
       "      <td>1.631853e+09</td>\n",
       "      <td>12</td>\n",
       "    </tr>\n",
       "    <tr>\n",
       "      <th>8</th>\n",
       "      <td>The Avengers</td>\n",
       "      <td>1.518816e+09</td>\n",
       "      <td>4</td>\n",
       "    </tr>\n",
       "    <tr>\n",
       "      <th>9</th>\n",
       "      <td>Furious 7</td>\n",
       "      <td>1.515048e+09</td>\n",
       "      <td>4</td>\n",
       "    </tr>\n",
       "    <tr>\n",
       "      <th>10</th>\n",
       "      <td>Frozen II</td>\n",
       "      <td>1.450027e+09</td>\n",
       "      <td>11</td>\n",
       "    </tr>\n",
       "    <tr>\n",
       "      <th>11</th>\n",
       "      <td>Avengers: Age of Ultron</td>\n",
       "      <td>1.405404e+09</td>\n",
       "      <td>4</td>\n",
       "    </tr>\n",
       "    <tr>\n",
       "      <th>12</th>\n",
       "      <td>Black Panther</td>\n",
       "      <td>1.346739e+09</td>\n",
       "      <td>2</td>\n",
       "    </tr>\n",
       "    <tr>\n",
       "      <th>13</th>\n",
       "      <td>Harry Potter and the Deathly Hallows: Part 2</td>\n",
       "      <td>1.341511e+09</td>\n",
       "      <td>7</td>\n",
       "    </tr>\n",
       "    <tr>\n",
       "      <th>14</th>\n",
       "      <td>Star Wars: The Last Jedi</td>\n",
       "      <td>1.332699e+09</td>\n",
       "      <td>12</td>\n",
       "    </tr>\n",
       "    <tr>\n",
       "      <th>15</th>\n",
       "      <td>Jurassic World: Fallen Kingdom</td>\n",
       "      <td>1.303460e+09</td>\n",
       "      <td>6</td>\n",
       "    </tr>\n",
       "    <tr>\n",
       "      <th>16</th>\n",
       "      <td>Frozen</td>\n",
       "      <td>1.274219e+09</td>\n",
       "      <td>11</td>\n",
       "    </tr>\n",
       "    <tr>\n",
       "      <th>17</th>\n",
       "      <td>Beauty and the Beast</td>\n",
       "      <td>1.263521e+09</td>\n",
       "      <td>3</td>\n",
       "    </tr>\n",
       "    <tr>\n",
       "      <th>18</th>\n",
       "      <td>Incredibles 2</td>\n",
       "      <td>1.242805e+09</td>\n",
       "      <td>6</td>\n",
       "    </tr>\n",
       "    <tr>\n",
       "      <th>19</th>\n",
       "      <td>The Fate of the Furious</td>\n",
       "      <td>1.238765e+09</td>\n",
       "      <td>4</td>\n",
       "    </tr>\n",
       "  </tbody>\n",
       "</table>\n",
       "</div>"
      ],
      "text/plain": [
       "                                           title       revenue  monthRelease\n",
       "0                                         Avatar  2.847246e+09            12\n",
       "1                              Avengers: Endgame  2.797801e+09             4\n",
       "2                                        Titanic  2.187464e+09            11\n",
       "3                   Star Wars: The Force Awakens  2.068224e+09            12\n",
       "4                         Avengers: Infinity War  2.046240e+09             4\n",
       "5                                 Jurassic World  1.671713e+09             6\n",
       "6                                  The Lion King  1.667635e+09             7\n",
       "7                        Spider-Man: No Way Home  1.631853e+09            12\n",
       "8                                   The Avengers  1.518816e+09             4\n",
       "9                                      Furious 7  1.515048e+09             4\n",
       "10                                     Frozen II  1.450027e+09            11\n",
       "11                       Avengers: Age of Ultron  1.405404e+09             4\n",
       "12                                 Black Panther  1.346739e+09             2\n",
       "13  Harry Potter and the Deathly Hallows: Part 2  1.341511e+09             7\n",
       "14                      Star Wars: The Last Jedi  1.332699e+09            12\n",
       "15                Jurassic World: Fallen Kingdom  1.303460e+09             6\n",
       "16                                        Frozen  1.274219e+09            11\n",
       "17                          Beauty and the Beast  1.263521e+09             3\n",
       "18                                 Incredibles 2  1.242805e+09             6\n",
       "19                       The Fate of the Furious  1.238765e+09             4"
      ]
     },
     "execution_count": 203,
     "metadata": {},
     "output_type": "execute_result"
    }
   ],
   "source": [
    "# 4.12\n",
    "movies['monthRelease'] = pd.to_datetime(movies.releaseDate).dt.month\n",
    "q12 = movies.sort_values('revenue', ascending=False, ignore_index=True)[['title', 'revenue', 'monthRelease']].head(20)\n",
    "q12\n"
   ]
  },
  {
   "cell_type": "markdown",
   "metadata": {},
   "source": [
    "4.13 (8 puntos) ¿En qué meses se han visto los lanzamientos con mejores \n",
    "ingresos?¿cuantas películas, en promedio, se han lanzado por mes?"
   ]
  },
  {
   "cell_type": "code",
   "execution_count": 204,
   "metadata": {},
   "outputs": [
    {
     "data": {
      "text/html": [
       "<div>\n",
       "<style scoped>\n",
       "    .dataframe tbody tr th:only-of-type {\n",
       "        vertical-align: middle;\n",
       "    }\n",
       "\n",
       "    .dataframe tbody tr th {\n",
       "        vertical-align: top;\n",
       "    }\n",
       "\n",
       "    .dataframe thead th {\n",
       "        text-align: right;\n",
       "    }\n",
       "</style>\n",
       "<table border=\"1\" class=\"dataframe\">\n",
       "  <thead>\n",
       "    <tr style=\"text-align: right;\">\n",
       "      <th></th>\n",
       "      <th>revenue</th>\n",
       "      <th>title</th>\n",
       "      <th>monthRelease</th>\n",
       "    </tr>\n",
       "  </thead>\n",
       "  <tbody>\n",
       "    <tr>\n",
       "      <th>0</th>\n",
       "      <td>2.847246e+09</td>\n",
       "      <td>Avatar</td>\n",
       "      <td>12</td>\n",
       "    </tr>\n",
       "    <tr>\n",
       "      <th>1</th>\n",
       "      <td>2.797801e+09</td>\n",
       "      <td>Avengers: Endgame</td>\n",
       "      <td>4</td>\n",
       "    </tr>\n",
       "    <tr>\n",
       "      <th>2</th>\n",
       "      <td>2.187464e+09</td>\n",
       "      <td>Titanic</td>\n",
       "      <td>11</td>\n",
       "    </tr>\n",
       "    <tr>\n",
       "      <th>3</th>\n",
       "      <td>2.068224e+09</td>\n",
       "      <td>Star Wars: The Force Awakens</td>\n",
       "      <td>12</td>\n",
       "    </tr>\n",
       "    <tr>\n",
       "      <th>4</th>\n",
       "      <td>2.046240e+09</td>\n",
       "      <td>Avengers: Infinity War</td>\n",
       "      <td>4</td>\n",
       "    </tr>\n",
       "    <tr>\n",
       "      <th>5</th>\n",
       "      <td>1.671713e+09</td>\n",
       "      <td>Jurassic World</td>\n",
       "      <td>6</td>\n",
       "    </tr>\n",
       "    <tr>\n",
       "      <th>6</th>\n",
       "      <td>1.667635e+09</td>\n",
       "      <td>The Lion King</td>\n",
       "      <td>7</td>\n",
       "    </tr>\n",
       "    <tr>\n",
       "      <th>7</th>\n",
       "      <td>1.631853e+09</td>\n",
       "      <td>Spider-Man: No Way Home</td>\n",
       "      <td>12</td>\n",
       "    </tr>\n",
       "    <tr>\n",
       "      <th>8</th>\n",
       "      <td>1.518816e+09</td>\n",
       "      <td>The Avengers</td>\n",
       "      <td>4</td>\n",
       "    </tr>\n",
       "    <tr>\n",
       "      <th>9</th>\n",
       "      <td>1.515048e+09</td>\n",
       "      <td>Furious 7</td>\n",
       "      <td>4</td>\n",
       "    </tr>\n",
       "  </tbody>\n",
       "</table>\n",
       "</div>"
      ],
      "text/plain": [
       "        revenue                         title  monthRelease\n",
       "0  2.847246e+09                        Avatar            12\n",
       "1  2.797801e+09             Avengers: Endgame             4\n",
       "2  2.187464e+09                       Titanic            11\n",
       "3  2.068224e+09  Star Wars: The Force Awakens            12\n",
       "4  2.046240e+09        Avengers: Infinity War             4\n",
       "5  1.671713e+09                Jurassic World             6\n",
       "6  1.667635e+09                 The Lion King             7\n",
       "7  1.631853e+09       Spider-Man: No Way Home            12\n",
       "8  1.518816e+09                  The Avengers             4\n",
       "9  1.515048e+09                     Furious 7             4"
      ]
     },
     "execution_count": 204,
     "metadata": {},
     "output_type": "execute_result"
    }
   ],
   "source": [
    "# 4.13\n",
    "movies['monthRelease'] = pd.to_datetime(movies.releaseDate).dt.month\n",
    "pregunta1 = movies.sort_values('revenue', ascending=False, ignore_index=True)[['revenue', 'title', 'monthRelease']].head(10)\n",
    "pregunta1\n"
   ]
  },
  {
   "cell_type": "code",
   "execution_count": 205,
   "metadata": {},
   "outputs": [
    {
     "data": {
      "text/html": [
       "<div>\n",
       "<style scoped>\n",
       "    .dataframe tbody tr th:only-of-type {\n",
       "        vertical-align: middle;\n",
       "    }\n",
       "\n",
       "    .dataframe tbody tr th {\n",
       "        vertical-align: top;\n",
       "    }\n",
       "\n",
       "    .dataframe thead th {\n",
       "        text-align: right;\n",
       "    }\n",
       "</style>\n",
       "<table border=\"1\" class=\"dataframe\">\n",
       "  <thead>\n",
       "    <tr style=\"text-align: right;\">\n",
       "      <th></th>\n",
       "      <th>count</th>\n",
       "    </tr>\n",
       "    <tr>\n",
       "      <th>month</th>\n",
       "      <th></th>\n",
       "    </tr>\n",
       "  </thead>\n",
       "  <tbody>\n",
       "    <tr>\n",
       "      <th>1</th>\n",
       "      <td>652</td>\n",
       "    </tr>\n",
       "    <tr>\n",
       "      <th>2</th>\n",
       "      <td>706</td>\n",
       "    </tr>\n",
       "    <tr>\n",
       "      <th>3</th>\n",
       "      <td>815</td>\n",
       "    </tr>\n",
       "    <tr>\n",
       "      <th>4</th>\n",
       "      <td>696</td>\n",
       "    </tr>\n",
       "    <tr>\n",
       "      <th>5</th>\n",
       "      <td>698</td>\n",
       "    </tr>\n",
       "    <tr>\n",
       "      <th>6</th>\n",
       "      <td>819</td>\n",
       "    </tr>\n",
       "    <tr>\n",
       "      <th>7</th>\n",
       "      <td>812</td>\n",
       "    </tr>\n",
       "    <tr>\n",
       "      <th>8</th>\n",
       "      <td>913</td>\n",
       "    </tr>\n",
       "    <tr>\n",
       "      <th>9</th>\n",
       "      <td>1079</td>\n",
       "    </tr>\n",
       "    <tr>\n",
       "      <th>10</th>\n",
       "      <td>1068</td>\n",
       "    </tr>\n",
       "    <tr>\n",
       "      <th>11</th>\n",
       "      <td>807</td>\n",
       "    </tr>\n",
       "    <tr>\n",
       "      <th>12</th>\n",
       "      <td>935</td>\n",
       "    </tr>\n",
       "  </tbody>\n",
       "</table>\n",
       "</div>"
      ],
      "text/plain": [
       "       count\n",
       "month       \n",
       "1        652\n",
       "2        706\n",
       "3        815\n",
       "4        696\n",
       "5        698\n",
       "6        819\n",
       "7        812\n",
       "8        913\n",
       "9       1079\n",
       "10      1068\n",
       "11       807\n",
       "12       935"
      ]
     },
     "execution_count": 205,
     "metadata": {},
     "output_type": "execute_result"
    }
   ],
   "source": [
    "movies['releaseDate'] = pd.to_datetime(movies['releaseDate'], errors='coerce')\n",
    "sortedByMonth = movies.groupby([movies['releaseDate'].dt.month.rename('month')]).agg({'count'})\n",
    "sortedByMonth['title']"
   ]
  },
  {
   "cell_type": "markdown",
   "metadata": {},
   "source": [
    "4.14. (7 puntos) ¿Cómo se correlacionan las calificaciones con el éxito comercial? "
   ]
  },
  {
   "cell_type": "code",
   "execution_count": 206,
   "metadata": {},
   "outputs": [
    {
     "data": {
      "image/png": "[encoded data removed]",
      "text/plain": [
       "<Figure size 720x720 with 1 Axes>"
      ]
     },
     "metadata": {
      "needs_background": "light"
     },
     "output_type": "display_data"
    },
    {
     "data": {
      "image/png": "[encoded data removed]",
      "text/plain": [
       "<Figure size 720x720 with 2 Axes>"
      ]
     },
     "metadata": {
      "needs_background": "light"
     },
     "output_type": "display_data"
    }
   ],
   "source": [
    "data = ps.sqldf(\"select voteAvg, (revenue - budget) as EARNED from movies\")\n",
    "sns.regplot(x=data[\"voteAvg\"], y=data[\"EARNED\"])\n",
    "plt.show()\n",
    "heatmap = sns.heatmap(data.corr(), annot = True)\n",
    "plt.show()"
   ]
  },
  {
   "cell_type": "markdown",
   "metadata": {},
   "source": [
    "### 4.15. (5 puntos) ¿A qué género principal pertenecen las películas más largas? (SE AGARRÓ EL TIEMPO PROMEDIO)"
   ]
  },
  {
   "cell_type": "code",
   "execution_count": 207,
   "metadata": {},
   "outputs": [
    {
     "name": "stdout",
     "output_type": "stream",
     "text": [
      "             genres  tiempopromedio\n",
      "0           History             122\n",
      "1               War             120\n",
      "2           Western             116\n",
      "3             Drama             111\n",
      "4             Crime             111\n",
      "5         Adventure             107\n",
      "6             Music             104\n",
      "7            Action             104\n",
      "8   Science Fiction             103\n",
      "9           Romance             102\n",
      "10         Thriller             101\n",
      "11          Mystery             101\n",
      "12          Fantasy             100\n",
      "13           Comedy              97\n",
      "14           Horror              93\n",
      "15      Documentary              88\n",
      "16           Family              84\n",
      "17         TV Movie              80\n",
      "18        Animation              76\n",
      "19                               51\n"
     ]
    }
   ],
   "source": [
    "data = ps.sqldf(\"select * from movies\")\n",
    "data[\"genres\"] = data[\"genres\"].map(lambda x: x.split(\"|\")[0] if x != None else \"\")\n",
    "data = ps.sqldf(\"select genres, SUM(runtime) / Count(*) as tiempopromedio from data group by genres order by tiempopromedio desc\")\n",
    "print(data)"
   ]
  }
 ],
 "metadata": {
  "interpreter": {
   "hash": "4d46db6e1e7dc1527ffac0d0f615a7bdece170757fd0b573e95b94a68f1d8cb2"
  },
  "kernelspec": {
   "display_name": "Python 3.9.6 64-bit",
   "language": "python",
   "name": "python3"
  },
  "language_info": {
   "codemirror_mode": {
    "name": "ipython",
    "version": 3
   },
   "file_extension": ".py",
   "mimetype": "text/x-python",
   "name": "python",
   "nbconvert_exporter": "python",
   "pygments_lexer": "ipython3",
   "version": "3.8.9"
  },
  "orig_nbformat": 4
 },
 "nbformat": 4,
 "nbformat_minor": 2
}
